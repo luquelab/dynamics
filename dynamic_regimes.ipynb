{
  "nbformat": 4,
  "nbformat_minor": 0,
  "metadata": {
    "colab": {
      "provenance": [],
      "authorship_tag": "ABX9TyPH9JjvEZsF0FA7dSjlkF10",
      "include_colab_link": true
    },
    "kernelspec": {
      "name": "python3",
      "display_name": "Python 3"
    },
    "language_info": {
      "name": "python"
    }
  },
  "cells": [
    {
      "cell_type": "markdown",
      "metadata": {
        "id": "view-in-github",
        "colab_type": "text"
      },
      "source": [
        "<a href=\"https://colab.research.google.com/github/luquelab/dynamics/blob/Colab/dynamic_regimes.ipynb\" target=\"_parent\"><img src=\"https://colab.research.google.com/assets/colab-badge.svg\" alt=\"Open In Colab\"/></a>"
      ]
    },
    {
      "cell_type": "markdown",
      "source": [
        "# Dynamic Regimes"
      ],
      "metadata": {
        "id": "gifHfZk1bs9U"
      }
    },
    {
      "cell_type": "markdown",
      "source": [
        "## Description\n",
        "This notebook identifies the different dynamic regimes of a given model when specifying an observational time. The notebook is based on ongoing research on transient dynamics by the [Luque lab](https://www.luquelab.com/) and [Rohwer lab](https://coralandphage.org/) with research scientists [Sergio Cobo-Lopez](https://scholar.google.com/citations?user=m6m1HV4AAAAJ&hl=en) and Matthew Witt as the main contributors to the project. Follow the Quick-Start Guide section to get started."
      ],
      "metadata": {
        "id": "kNJlgMGkbyQJ"
      }
    },
    {
      "cell_type": "markdown",
      "source": [
        "## Quick-Start Guide\n",
        "Here are the recommendations to obtain results when running the notebook:\n",
        "1. If it is your first time using the notebook, we recommend that you test that the notebook runs well in your browser using the default values. This should generate the outputs TBD. If you have any issues, check the section TBD.\n",
        "2. After testing that the notebook works on your browser, set the specific model you aim to investigate following the instructions in the [User Input](#scrollTo=User_Input). You can either edit the model manually or import it as a JSON file, e.g., froma a previously generated model.\n",
        "4. Run the block TBD.\n",
        "5. Check downloads and report (TBD)"
      ],
      "metadata": {
        "id": "YBKipJcsi7ir"
      }
    },
    {
      "cell_type": "markdown",
      "source": [
        "# User Input\n",
        "This section allow users to define a new model and its conditions or upload a previously defined model."
      ],
      "metadata": {
        "id": "52YOR44DW7d-"
      }
    },
    {
      "cell_type": "code",
      "source": [
        "# User input\n",
        "\n",
        "## Choose if the model will be uploaded\n",
        "upload = False ## Values: `True` or `False`. If True, it expects to upload model as JSON file.\n",
        "\n",
        "## If upload is False, edit the lines below to define the new model\n",
        "### Set variables info\n",
        "variables = ['Time','Bacteria','Phage']\n",
        "variables_symbols = ['t','B','P']\n",
        "variables_units = ['h','cells/ml','phages/ml']\n",
        "variables_independence = [True,False,False]\n",
        "variables_with_mechanisms = variables[1:]\n",
        "mechanisms = [['growth','predation'],\n",
        "                ['burst','decay']]\n",
        "expressions = [['+r*B','-aB*B*P'],\n",
        "                 ['c*aP*B*P','-m*P']]\n",
        "variables_values = [0,100,100]\n",
        "\n",
        "### Set parameters info\n",
        "parameters = ['growth_constant','infection_constant_to_B',\n",
        "                'burst_size','infection_constant_from_P','decay_constant']\n",
        "parameters_symbols = ['r','aB',\n",
        "                        'c','aP','m']\n",
        "parameters_units = ['1/h','ml/(h*phage)',\n",
        "                      '','ml/(h*cell)','1/h']\n",
        "parameters_values = [1,2,\n",
        "                       3,1,2]\n",
        "\n",
        "### Set observer info\n",
        "observational_time = 10\n",
        "observational_time_units = variables_units[0]\n",
        "system_size = 1\n",
        "system_size_units = 'ml'\n",
        "\n",
        "\n",
        "## If upload is True the coad below will request to upload the model (no need to modify)\n",
        "if upload:\n",
        "  # Upload model from JSON file\n",
        "  from google.colab import files\n",
        "  import json\n",
        "\n",
        "  uploaded = files.upload()\n",
        "  model_bytes = next(iter(uploaded.values()))\n",
        "  model = json.loads(model_bytes.decode())\n",
        "  print('Model uploaded')\n"
      ],
      "metadata": {
        "id": "rs6EhpOyXYKR",
        "outputId": "f1eb0097-650c-4eb5-f3c3-eed0fdaa99d0",
        "colab": {
          "base_uri": "https://localhost:8080/",
          "height": 90
        }
      },
      "execution_count": 1,
      "outputs": [
        {
          "output_type": "display_data",
          "data": {
            "text/plain": [
              "<IPython.core.display.HTML object>"
            ],
            "text/html": [
              "\n",
              "     <input type=\"file\" id=\"files-be060fe5-a40b-41af-af1d-ef5e2972cf05\" name=\"files[]\" multiple disabled\n",
              "        style=\"border:none\" />\n",
              "     <output id=\"result-be060fe5-a40b-41af-af1d-ef5e2972cf05\">\n",
              "      Upload widget is only available when the cell has been executed in the\n",
              "      current browser session. Please rerun this cell to enable.\n",
              "      </output>\n",
              "      <script>// Copyright 2017 Google LLC\n",
              "//\n",
              "// Licensed under the Apache License, Version 2.0 (the \"License\");\n",
              "// you may not use this file except in compliance with the License.\n",
              "// You may obtain a copy of the License at\n",
              "//\n",
              "//      http://www.apache.org/licenses/LICENSE-2.0\n",
              "//\n",
              "// Unless required by applicable law or agreed to in writing, software\n",
              "// distributed under the License is distributed on an \"AS IS\" BASIS,\n",
              "// WITHOUT WARRANTIES OR CONDITIONS OF ANY KIND, either express or implied.\n",
              "// See the License for the specific language governing permissions and\n",
              "// limitations under the License.\n",
              "\n",
              "/**\n",
              " * @fileoverview Helpers for google.colab Python module.\n",
              " */\n",
              "(function(scope) {\n",
              "function span(text, styleAttributes = {}) {\n",
              "  const element = document.createElement('span');\n",
              "  element.textContent = text;\n",
              "  for (const key of Object.keys(styleAttributes)) {\n",
              "    element.style[key] = styleAttributes[key];\n",
              "  }\n",
              "  return element;\n",
              "}\n",
              "\n",
              "// Max number of bytes which will be uploaded at a time.\n",
              "const MAX_PAYLOAD_SIZE = 100 * 1024;\n",
              "\n",
              "function _uploadFiles(inputId, outputId) {\n",
              "  const steps = uploadFilesStep(inputId, outputId);\n",
              "  const outputElement = document.getElementById(outputId);\n",
              "  // Cache steps on the outputElement to make it available for the next call\n",
              "  // to uploadFilesContinue from Python.\n",
              "  outputElement.steps = steps;\n",
              "\n",
              "  return _uploadFilesContinue(outputId);\n",
              "}\n",
              "\n",
              "// This is roughly an async generator (not supported in the browser yet),\n",
              "// where there are multiple asynchronous steps and the Python side is going\n",
              "// to poll for completion of each step.\n",
              "// This uses a Promise to block the python side on completion of each step,\n",
              "// then passes the result of the previous step as the input to the next step.\n",
              "function _uploadFilesContinue(outputId) {\n",
              "  const outputElement = document.getElementById(outputId);\n",
              "  const steps = outputElement.steps;\n",
              "\n",
              "  const next = steps.next(outputElement.lastPromiseValue);\n",
              "  return Promise.resolve(next.value.promise).then((value) => {\n",
              "    // Cache the last promise value to make it available to the next\n",
              "    // step of the generator.\n",
              "    outputElement.lastPromiseValue = value;\n",
              "    return next.value.response;\n",
              "  });\n",
              "}\n",
              "\n",
              "/**\n",
              " * Generator function which is called between each async step of the upload\n",
              " * process.\n",
              " * @param {string} inputId Element ID of the input file picker element.\n",
              " * @param {string} outputId Element ID of the output display.\n",
              " * @return {!Iterable<!Object>} Iterable of next steps.\n",
              " */\n",
              "function* uploadFilesStep(inputId, outputId) {\n",
              "  const inputElement = document.getElementById(inputId);\n",
              "  inputElement.disabled = false;\n",
              "\n",
              "  const outputElement = document.getElementById(outputId);\n",
              "  outputElement.innerHTML = '';\n",
              "\n",
              "  const pickedPromise = new Promise((resolve) => {\n",
              "    inputElement.addEventListener('change', (e) => {\n",
              "      resolve(e.target.files);\n",
              "    });\n",
              "  });\n",
              "\n",
              "  const cancel = document.createElement('button');\n",
              "  inputElement.parentElement.appendChild(cancel);\n",
              "  cancel.textContent = 'Cancel upload';\n",
              "  const cancelPromise = new Promise((resolve) => {\n",
              "    cancel.onclick = () => {\n",
              "      resolve(null);\n",
              "    };\n",
              "  });\n",
              "\n",
              "  // Wait for the user to pick the files.\n",
              "  const files = yield {\n",
              "    promise: Promise.race([pickedPromise, cancelPromise]),\n",
              "    response: {\n",
              "      action: 'starting',\n",
              "    }\n",
              "  };\n",
              "\n",
              "  cancel.remove();\n",
              "\n",
              "  // Disable the input element since further picks are not allowed.\n",
              "  inputElement.disabled = true;\n",
              "\n",
              "  if (!files) {\n",
              "    return {\n",
              "      response: {\n",
              "        action: 'complete',\n",
              "      }\n",
              "    };\n",
              "  }\n",
              "\n",
              "  for (const file of files) {\n",
              "    const li = document.createElement('li');\n",
              "    li.append(span(file.name, {fontWeight: 'bold'}));\n",
              "    li.append(span(\n",
              "        `(${file.type || 'n/a'}) - ${file.size} bytes, ` +\n",
              "        `last modified: ${\n",
              "            file.lastModifiedDate ? file.lastModifiedDate.toLocaleDateString() :\n",
              "                                    'n/a'} - `));\n",
              "    const percent = span('0% done');\n",
              "    li.appendChild(percent);\n",
              "\n",
              "    outputElement.appendChild(li);\n",
              "\n",
              "    const fileDataPromise = new Promise((resolve) => {\n",
              "      const reader = new FileReader();\n",
              "      reader.onload = (e) => {\n",
              "        resolve(e.target.result);\n",
              "      };\n",
              "      reader.readAsArrayBuffer(file);\n",
              "    });\n",
              "    // Wait for the data to be ready.\n",
              "    let fileData = yield {\n",
              "      promise: fileDataPromise,\n",
              "      response: {\n",
              "        action: 'continue',\n",
              "      }\n",
              "    };\n",
              "\n",
              "    // Use a chunked sending to avoid message size limits. See b/62115660.\n",
              "    let position = 0;\n",
              "    do {\n",
              "      const length = Math.min(fileData.byteLength - position, MAX_PAYLOAD_SIZE);\n",
              "      const chunk = new Uint8Array(fileData, position, length);\n",
              "      position += length;\n",
              "\n",
              "      const base64 = btoa(String.fromCharCode.apply(null, chunk));\n",
              "      yield {\n",
              "        response: {\n",
              "          action: 'append',\n",
              "          file: file.name,\n",
              "          data: base64,\n",
              "        },\n",
              "      };\n",
              "\n",
              "      let percentDone = fileData.byteLength === 0 ?\n",
              "          100 :\n",
              "          Math.round((position / fileData.byteLength) * 100);\n",
              "      percent.textContent = `${percentDone}% done`;\n",
              "\n",
              "    } while (position < fileData.byteLength);\n",
              "  }\n",
              "\n",
              "  // All done.\n",
              "  yield {\n",
              "    response: {\n",
              "      action: 'complete',\n",
              "    }\n",
              "  };\n",
              "}\n",
              "\n",
              "scope.google = scope.google || {};\n",
              "scope.google.colab = scope.google.colab || {};\n",
              "scope.google.colab._files = {\n",
              "  _uploadFiles,\n",
              "  _uploadFilesContinue,\n",
              "};\n",
              "})(self);\n",
              "</script> "
            ]
          },
          "metadata": {}
        },
        {
          "output_type": "stream",
          "name": "stdout",
          "text": [
            "Saving daysies_test.json to daysies_test.json\n",
            "Model uploaded\n"
          ]
        }
      ]
    },
    {
      "cell_type": "markdown",
      "source": [
        "# Set System and Model\n",
        "This section installs any necessary packages, imports the libraries needed for the code, and defines the necessary objects to execute the notebook."
      ],
      "metadata": {
        "id": "xdGG3HQxkR9o"
      }
    },
    {
      "cell_type": "markdown",
      "source": [
        "## Installations\n",
        "The code below installs the necessary packages in the Colab server."
      ],
      "metadata": {
        "id": "kyy3HHATkEsR"
      }
    },
    {
      "cell_type": "code",
      "source": [
        "# Installations\n",
        "## No installations needed yet."
      ],
      "metadata": {
        "id": "WlmRqa33kpzZ"
      },
      "execution_count": 2,
      "outputs": []
    },
    {
      "cell_type": "markdown",
      "source": [
        "## Imports\n",
        "The code below installs the necessary libraries to run the notebook."
      ],
      "metadata": {
        "id": "0RnSz64IktZR"
      }
    },
    {
      "cell_type": "code",
      "source": [
        "# Imports\n",
        "from math import *\n",
        "import numpy as np\n",
        "import matplotlib.pyplot as plt\n",
        "from scipy.integrate import odeint, solve_ivp\n",
        "import json\n",
        "from google.colab import files"
      ],
      "metadata": {
        "id": "hxZWPQD9rkDO"
      },
      "execution_count": 3,
      "outputs": []
    },
    {
      "cell_type": "markdown",
      "source": [
        "## Definitions\n",
        "The code below defines the necessary objects that have been developed specifically for this project and are necessary to generate the model and the results."
      ],
      "metadata": {
        "id": "YfFW_H5Sk5N1"
      }
    },
    {
      "cell_type": "code",
      "source": [
        "# Definitions\n",
        "\n",
        "##############\n",
        "## Class to generate objects containing the necessary information about a model\n",
        "##############\n",
        "class Model:\n",
        "  def __init__(self, observer:dict={}, variables:dict={}, parameters:dict={}):\n",
        "    self.observer = observer\n",
        "    self.variables = variables\n",
        "    self.parameters = parameters\n",
        "\n",
        "  def __str__(self):\n",
        "    return json.dumps(self.__dict__)\n",
        "\n",
        "  def __repr__(self):\n",
        "    return self.__str__()\n",
        "\n",
        "  # Add variables\n",
        "  def add_variables(self, variables:list):\n",
        "    for variable in variables:\n",
        "      self.variables[variable] = {}\n",
        "\n",
        "  # Add symbols to variables\n",
        "  def add_symbols_to_variables(self,variables:list, symbols:list):\n",
        "    for index, variable in enumerate(variables):\n",
        "      self.variables[variable]['symbol'] = symbols[index]\n",
        "\n",
        "  # Add units to variables\n",
        "  def add_units_to_variables(self, variables:list, units:list):\n",
        "    for index, variable in enumerate(variables):\n",
        "      self.variables[variable]['unit'] = units[index]\n",
        "\n",
        "  # Add status to variables\n",
        "  def add_status_to_variables(self,variables:list, independence:list):\n",
        "    for index,variable in enumerate(variables):\n",
        "      self.variables[variable]['independent'] = independence[index]\n",
        "\n",
        "  # Add mechanisms contributing to the rate of change of variables\n",
        "  def add_mechanisms(self, variables:list, mechanisms:list, expressions:list):\n",
        "    for index,variable in enumerate(variables):\n",
        "      self.variables[variable]['mechanisms'] = {}\n",
        "\n",
        "      variable_mechanisms = mechanisms[index]\n",
        "      variable_mechanisms_expressions = expressions[index]\n",
        "      for index,mechanism in enumerate(variable_mechanisms):\n",
        "         self.variables[variable]['mechanisms'][mechanism] = variable_mechanisms_expressions[index]\n",
        "\n",
        "  # Add initial values to variables\n",
        "  def add_initial_values_to_variables(self,variables:list,values:list):\n",
        "    for index,variable in enumerate(variables):\n",
        "      self.variables[variable]['initial_value'] = values[index]\n",
        "\n",
        "  # Add parameters\n",
        "  def add_parameters(self, parameters:list):\n",
        "    for parameter in parameters:\n",
        "      self.parameters[parameter] = {}\n",
        "\n",
        "  # Add symbols to parameters\n",
        "  def add_symbols_to_parameters(self,parameters:list, symbols:list):\n",
        "    for index, parameter in enumerate(parameters):\n",
        "      self.parameters[parameter]['symbol'] = symbols[index]\n",
        "\n",
        "  # Add units to parameters\n",
        "  def add_units_to_parameters(self, parameters:list, units:list):\n",
        "    for index, parameter in enumerate(parameters):\n",
        "      self.parameters[parameter]['unit'] = units[index]\n",
        "\n",
        "  # Add initial values to parameters\n",
        "  def add_initial_values_to_parameters(self,parameters:list,values:list):\n",
        "    for index,parameter in enumerate(parameters):\n",
        "      self.parameters[parameter]['value'] = values[index]\n",
        "\n",
        "  # Add observer time\n",
        "  def add_observer_time(self, observational_time:float, units:str):\n",
        "    self.observer['observational_time'] = {}\n",
        "    self.observer['observational_time']['unit'] = units\n",
        "    self.observer['observational_time']['value'] = observational_time\n",
        "\n",
        "  # Add system size\n",
        "  def add_system_size(self, system_size:float, units:str):\n",
        "    self.observer['system_size'] = {}\n",
        "    self.observer['system_size']['unit'] = units\n",
        "    self.observer['system_size']['value'] = system_size\n",
        "\n",
        "\n",
        "################\n",
        "## Function that generates the system of differential equations given a model\n",
        "################\n",
        "def generate_model_system(model:dict):\n",
        "  \"\"\"\n",
        "  Function generating a function for the differential equations of a given model.\n",
        "\n",
        "  Args:\n",
        "      model (dict): Dictionary describing the model\n",
        "\n",
        "  Returns:\n",
        "      str: Python code defining the function for the model\n",
        "  \"\"\"\n",
        "  system = ''\n",
        "\n",
        "  # Iterate over the dependent variables in the model\n",
        "  for variable in model['variables']:\n",
        "\n",
        "    # Load dictionary associated with the variable\n",
        "    variable_dict = model['variables'][variable]\n",
        "\n",
        "    # Chaeck is independency and accept if False\n",
        "    independent = variable_dict['independent']\n",
        "    if not independent:\n",
        "\n",
        "      # Build equation for the variable\n",
        "      symbol = variable_dict['symbol']\n",
        "      equation = symbol+'_dot = '\n",
        "      for mechanism in variable_dict['mechanisms']:\n",
        "        expression = variable_dict['mechanisms'][mechanism]\n",
        "        equation += expression+' '\n",
        "\n",
        "      # Update system\n",
        "      system += equation+'\\n'\n",
        "  return system\n",
        "\n",
        "\n",
        "########\n",
        "## Function to obtain the symbols of the variables\n",
        "########\n",
        "def get_variables_symbols(model:dict):\n",
        "  \"\"\"\n",
        "  Function that obtains the symbols of the variables of a model.\n",
        "  Uses a model as input and returns a tuple with the symbols of the variables.\n",
        "\n",
        "  Args:\n",
        "      model (dict): Dictionary describing the model\n",
        "\n",
        "  Returns:\n",
        "      Tuple: Two objects\n",
        "        Str: Symbol for the independent variable\n",
        "        List: Symbols for the dependent variables\n",
        "  \"\"\"\n",
        "\n",
        "  # Set list for dependent variables\n",
        "  dependent_variables_symbol = []\n",
        "\n",
        "  # Obtain variable symbols\n",
        "  for variable in model['variables']:\n",
        "\n",
        "    # Obtain dictionary for each variable\n",
        "    variable_dict = model['variables'][variable]\n",
        "\n",
        "    # Distinguish between independent and dependent variables\n",
        "    independence = variable_dict['independent']\n",
        "    if independence:\n",
        "      # Obtain and store symbol\n",
        "      variable_symbol = variable_dict['symbol']\n",
        "      independent_variable_symbol = variable_symbol\n",
        "\n",
        "    else:\n",
        "      # Obtain and store symbol\n",
        "      variable_symbol = variable_dict['symbol']\n",
        "\n",
        "      # Append symbol and value to list\n",
        "      dependent_variables_symbol.append(variable_symbol)\n",
        "\n",
        "  # Return variables\n",
        "  output = (independent_variable_symbol,dependent_variables_symbol)\n",
        "  return output\n",
        "\n",
        "################\n",
        "## Function to obtain the parameter values of the model\n",
        "################\n",
        "def get_model_parameters(model:dict):\n",
        "  \"\"\"\n",
        "  Function that obtains the peramaters of a given model.\n",
        "  It expects a model as a dictionary and returns the symbols and values each as a tuple.\n",
        "\n",
        "  Args:\n",
        "      model (dict): Dictionary describing the model\n",
        "\n",
        "  Returns:\n",
        "      List: Two tuples\n",
        "        tuple: symbols associated with the parameters.\n",
        "        tuple: values associated with the parameters.\n",
        "  \"\"\"\n",
        "\n",
        "  # Obtain dictionary for the parameters\n",
        "  parameters = model['parameters']\n",
        "\n",
        "  # Set the lists that later will become tuples\n",
        "  param_symbols_list = []\n",
        "  param_values_list = []\n",
        "  for parameter in parameters:\n",
        "    # Obtain the dictionary for the specific parameter\n",
        "    parameter_dict = parameters[parameter]\n",
        "\n",
        "    # Obtain and store symbol\n",
        "    symbol = parameter_dict['symbol']\n",
        "    param_symbols_list.append(symbol)\n",
        "\n",
        "    # Obtain and store value\n",
        "    value = parameter_dict['value']\n",
        "    param_values_list.append(value)\n",
        "\n",
        "  # Print what was obtained\n",
        "  print(f'Parameter symbols: {param_symbols_list}')\n",
        "  print(f'Parameter values: {param_values_list}')\n",
        "\n",
        "  # Return the results as tuples\n",
        "  param_symbols = tuple(param_symbols_list)\n",
        "  param_values = tuple(param_values_list)\n",
        "  output = [param_symbols,param_values]\n",
        "  return output\n",
        "\n",
        "\n",
        "\n",
        "############\n",
        "## Function that returns the initial conditions for the variables in the model\n",
        "############\n",
        "def get_initial_conditions(model:dict):\n",
        "  \"\"\"\n",
        "  Function that returns the initial conditions of the variables.\n",
        "\n",
        "  Args:\n",
        "      model (dict): Dictionary describing the model\n",
        "\n",
        "  Returns:\n",
        "      Tuple: Two lists\n",
        "        List: Symbols for the initial conditions\n",
        "        List: Values for the initial conditions\n",
        "  \"\"\"\n",
        "\n",
        "  # Initiate lists\n",
        "  initial_conditions_list = []\n",
        "  initial_variables_list = []\n",
        "\n",
        "  # Obtain dictionary for variables and loop through them\n",
        "  variables = model['variables']\n",
        "  for variable in variables:\n",
        "    # Obtain dictionary for each variable\n",
        "    variable_dict = variables[variable]\n",
        "\n",
        "    # Obtain and store symbol\n",
        "    symbol = variable_dict['symbol']\n",
        "    initial_variables_list.append(symbol+'0')\n",
        "\n",
        "    # Obtain and store value\n",
        "    value = variable_dict['initial_value']\n",
        "    initial_conditions_list.append(value)\n",
        "\n",
        "  # Print output\n",
        "  print(f'Initial symbol: {initial_variables_list}')\n",
        "  print(f'Initial values: {initial_conditions_list}')\n",
        "\n",
        "  # Prepare output as tuple for return\n",
        "  output = (initial_variables_list,initial_conditions_list)\n",
        "  return output\n",
        "\n",
        "\n",
        "#######\n",
        "## Function to generate the model equation as a python function .py\n",
        "#######\n",
        "def generate_model_fun(param_symbols:tuple,depend_variables_symbol:list,model_eqs:str):\n",
        "  \"\"\"\n",
        "  Function that generates the python function for the model in a .py file.\n",
        "  It takes the parameter symbols, dependent variable sybmols, and system of equations.\n",
        "  It returns a string with the model and generates the python function as a file.py\n",
        "  !!!! If the model was defined as a class with methods, this function would be more straightforward.\n",
        "\n",
        "  Args:\n",
        "  \"\"\"\n",
        "  ## Initialize output string\n",
        "  output = ''\n",
        "\n",
        "  ## Open file\n",
        "  name = 'model_fun'\n",
        "  file = open(f'{name}.py','w')\n",
        "\n",
        "  ## Write definition line\n",
        "  params = ','.join(param_symbols)\n",
        "  definition = f'def {name}(t,y,{params}):' + '\\n'\n",
        "  file.write(definition)\n",
        "  output += definition\n",
        "\n",
        "  ## Write initial values\n",
        "  index = 0\n",
        "  for symbol in depend_variables_symbol:\n",
        "    line = '\\t' + f'{symbol} = y[{index}]'  + '\\n'\n",
        "    output += line\n",
        "    file.write(line)\n",
        "    index += 1\n",
        "\n",
        "  ## Write system of equations\n",
        "\n",
        "  line = '\\n'\n",
        "  output += line\n",
        "  file.write(line)\n",
        "  eqs_list = model_eqs.split('\\n')\n",
        "  for equation in eqs_list:\n",
        "    eq_line = '\\t' + equation  + '\\n'\n",
        "    output += eq_line\n",
        "    file.write(eq_line)\n",
        "\n",
        "  ## Write formatted output for y_dot\n",
        "  y_dot = 'y_dot = ['\n",
        "  for equation in eqs_list:\n",
        "    # Obtain and recast the symbols for the derivatives to the generic y_dot\n",
        "    variable_dot = equation.split('=')[0]\n",
        "    y_dot += variable_dot +','\n",
        "\n",
        "  y_dot = y_dot.rstrip(',')\n",
        "  y_dot += ']'\n",
        "  y_dot_line = '\\t'+ y_dot  + '\\n'\n",
        "\n",
        "  output += y_dot_line\n",
        "  file.write(y_dot_line)\n",
        "\n",
        "  ## Write return output\n",
        "  return_line = '\\t'+ 'return y_dot'\n",
        "  output += return_line\n",
        "  file.write(return_line)\n",
        "\n",
        "  ## Close file\n",
        "  file.close()\n",
        "\n",
        "  ## Return output\n",
        "  return output"
      ],
      "metadata": {
        "id": "xlUnVzsQ9C0h"
      },
      "execution_count": 4,
      "outputs": []
    },
    {
      "cell_type": "markdown",
      "source": [
        "# Model and Conditions\n",
        "This section provides the code to facilitate users to set their specific models and observational conditions of interest."
      ],
      "metadata": {
        "id": "Q51foCJOl14A"
      }
    },
    {
      "cell_type": "markdown",
      "source": [
        "## Set Model\n",
        "The code below allows users to define their specific model, which is expected to be based on a system of differential equations. The system is expected to have a single independent variable, assumed to be time."
      ],
      "metadata": {
        "id": "MHV1YlHjlWMa"
      }
    },
    {
      "cell_type": "code",
      "source": [
        "# Set model\n",
        "## The code below will run to generate the model if the user chose upload=False.\n",
        "if not upload:\n",
        "  # Set model instance\n",
        "  model_object = Model()\n",
        "\n",
        "  ## Set observer info\n",
        "  observational_time = 10\n",
        "  observational_time_units = variables_units[0]\n",
        "  system_size = 1\n",
        "  system_size_units = 'ml'\n",
        "\n",
        "  ## Load variables info to the model\n",
        "  model_object.add_variables(variables)\n",
        "  model_object.add_symbols_to_variables(variables,variables_symbols)\n",
        "  model_object.add_units_to_variables(variables,variables_units)\n",
        "  model_object.add_status_to_variables(variables,variables_independence)\n",
        "  model_object.add_mechanisms(variables_with_mechanisms,mechanisms,expressions)\n",
        "  model_object.add_initial_values_to_variables(variables,variables_values)\n",
        "\n",
        "  ## Load parameters info to the model\n",
        "  model_object.add_parameters(parameters)\n",
        "  model_object.add_symbols_to_parameters(parameters,parameters_symbols)\n",
        "  model_object.add_units_to_parameters(parameters,parameters_units)\n",
        "  model_object.add_initial_values_to_parameters(parameters,parameters_values)\n",
        "\n",
        "  ## Load observer info to the model\n",
        "  model_object.add_observer_time(observational_time,observational_time_units)\n",
        "  model_object.add_system_size(system_size,system_size_units)\n",
        "\n",
        "  model = model_object.__dict__\n",
        "\n",
        "  ## Store model\n",
        "  with open(f'model.json', 'w') as file:\n",
        "    json.dump(model, file, indent=4)\n"
      ],
      "metadata": {
        "id": "OuXKJumw8TGu"
      },
      "execution_count": 5,
      "outputs": []
    },
    {
      "cell_type": "code",
      "source": [
        "# Display model\n",
        "model"
      ],
      "metadata": {
        "colab": {
          "base_uri": "https://localhost:8080/"
        },
        "id": "tNQ17VptZXhf",
        "outputId": "9b038347-e157-4831-cb1d-ccde9aae611e"
      },
      "execution_count": 6,
      "outputs": [
        {
          "output_type": "execute_result",
          "data": {
            "text/plain": [
              "{'observer': {'observational_time': {'unit': 'h', 'value': 100},\n",
              "  'system_size': {'unit': 'ml', 'value': 1}},\n",
              " 'variables': {'Time': {'symbol': 't',\n",
              "   'unit': 'h',\n",
              "   'independent': True,\n",
              "   'initial_value': 0},\n",
              "  'w_daysy': {'symbol': 'w_daysy',\n",
              "   'unit': 'm^2',\n",
              "   'independent': False,\n",
              "   'mechanisms': {'growth_w': 'beta_max*p*w_daysy',\n",
              "    'competition_w_b': '-beta_max*b_daysy*w_daysy',\n",
              "    'carrying_capacity_w': '-beta_max*w_daysy*w_daysy',\n",
              "    'temp_corr_growth_w': '-p*k*(T-T_opt)**2*w_daysy',\n",
              "    'temp_corr_competition_w': '-k*(T-T_opt)**2*b_daysy*w_daysy',\n",
              "    'temp_corr_carrying_w': '-k*(T-T_opt)**2*w_daysy*w_daysy',\n",
              "    'decay_w': '-gamma*w_daysy'},\n",
              "   'initial_value': 0.1},\n",
              "  'b_daysy': {'symbol': 'b_daysy',\n",
              "   'unit': 'm^2',\n",
              "   'independent': False,\n",
              "   'mechanisms': {'growth_b': 'beta_max*p*b_daysy',\n",
              "    'competition_b_w': '-beta_max*w_daysy*b_daysy',\n",
              "    'carrying_capacity_b': '-beta_max*b_daysy*b_daysy',\n",
              "    'temp_corr_growth_b': '-p*k*(T-T_opt)**2*b_daysy',\n",
              "    'temp_corr_competition_b': '-k*(T-T_opt)**2*w_daysy*b_daysy',\n",
              "    'temp_corr_carrying_b': '-k*(T-T_opt)**2*b_daysy*b_daysy',\n",
              "    'decay_b': '-gamma*b_daysy'},\n",
              "   'initial_value': 0.2}},\n",
              " 'parameters': {'growth_rate': {'symbol': 'beta_max',\n",
              "   'unit': '1/day',\n",
              "   'value': 1},\n",
              "  'free_soil': {'symbol': 'p', 'unit': 'm^2', 'value': 1},\n",
              "  'temp_constraint': {'symbol': 'k', 'unit': '1/K**2', 'value': 0},\n",
              "  'temp': {'symbol': 'T', 'unit': 'K', 'value': 280},\n",
              "  'optimal_temp': {'symbol': 'T_opt', 'unit': 'K', 'value': 295.5},\n",
              "  'decay_constant': {'symbol': 'gamma', 'unit': '1/day', 'value': 0.05}}}"
            ]
          },
          "metadata": {},
          "execution_count": 6
        }
      ]
    },
    {
      "cell_type": "markdown",
      "source": [
        "### Generate equations"
      ],
      "metadata": {
        "id": "D5ZF6xhcUpR9"
      }
    },
    {
      "cell_type": "code",
      "source": [
        "# Generate and display equations\n",
        "model_eqs = generate_model_system(model=model)\n",
        "print(model_eqs)"
      ],
      "metadata": {
        "colab": {
          "base_uri": "https://localhost:8080/"
        },
        "id": "G8y-liRAHyc0",
        "outputId": "fb954560-a4c9-44f3-8d6b-da435190ca47"
      },
      "execution_count": 7,
      "outputs": [
        {
          "output_type": "stream",
          "name": "stdout",
          "text": [
            "w_daysy_dot = beta_max*p*w_daysy -beta_max*b_daysy*w_daysy -beta_max*w_daysy*w_daysy -p*k*(T-T_opt)**2*w_daysy -k*(T-T_opt)**2*b_daysy*w_daysy -k*(T-T_opt)**2*w_daysy*w_daysy -gamma*w_daysy \n",
            "b_daysy_dot = beta_max*p*b_daysy -beta_max*w_daysy*b_daysy -beta_max*b_daysy*b_daysy -p*k*(T-T_opt)**2*b_daysy -k*(T-T_opt)**2*w_daysy*b_daysy -k*(T-T_opt)**2*b_daysy*b_daysy -gamma*b_daysy \n",
            "\n"
          ]
        }
      ]
    },
    {
      "cell_type": "markdown",
      "source": [
        "### Generate python functions"
      ],
      "metadata": {
        "id": "juFEfrjcDrHZ"
      }
    },
    {
      "cell_type": "code",
      "source": [
        "# Load the model as a function that can be integrated\n",
        "\n",
        "## Get symbols for dependent variables and\n",
        "indep_variable_symbol, depend_variables_symbol = get_variables_symbols(model)\n",
        "param_symbols, param_values = get_model_parameters(model)\n",
        "model_fun_str = generate_model_fun(param_symbols,depend_variables_symbol,model_eqs)\n",
        "print(model_fun_str)\n",
        "exec(model_fun_str)"
      ],
      "metadata": {
        "colab": {
          "base_uri": "https://localhost:8080/"
        },
        "id": "Tcg7v7PpOemx",
        "outputId": "ca4ebe99-7e4a-4ff0-d31e-2e9402dcead7"
      },
      "execution_count": 8,
      "outputs": [
        {
          "output_type": "stream",
          "name": "stdout",
          "text": [
            "Parameter symbols: ['beta_max', 'p', 'k', 'T', 'T_opt', 'gamma']\n",
            "Parameter values: [1, 1, 0, 280, 295.5, 0.05]\n",
            "def model_fun(t,y,beta_max,p,k,T,T_opt,gamma):\n",
            "\tw_daysy = y[0]\n",
            "\tb_daysy = y[1]\n",
            "\n",
            "\tw_daysy_dot = beta_max*p*w_daysy -beta_max*b_daysy*w_daysy -beta_max*w_daysy*w_daysy -p*k*(T-T_opt)**2*w_daysy -k*(T-T_opt)**2*b_daysy*w_daysy -k*(T-T_opt)**2*w_daysy*w_daysy -gamma*w_daysy \n",
            "\tb_daysy_dot = beta_max*p*b_daysy -beta_max*w_daysy*b_daysy -beta_max*b_daysy*b_daysy -p*k*(T-T_opt)**2*b_daysy -k*(T-T_opt)**2*w_daysy*b_daysy -k*(T-T_opt)**2*b_daysy*b_daysy -gamma*b_daysy \n",
            "\t\n",
            "\ty_dot = [w_daysy_dot ,b_daysy_dot ]\n",
            "\treturn y_dot\n"
          ]
        }
      ]
    },
    {
      "cell_type": "markdown",
      "source": [
        "## Set Conditions\n",
        "This section allow users to define their observational time, the initial conditions for the dynamic variables, and the values of the parameters in the model."
      ],
      "metadata": {
        "id": "NzQaOXJumRQD"
      }
    },
    {
      "cell_type": "code",
      "source": [
        "# Conditions\n",
        "\n",
        "## Parameters\n",
        "[param_symbols,param_values] = get_model_parameters(model=model)\n",
        "\n",
        "## Initial values\n",
        "inital_symbols, initial_values = get_initial_conditions(model=model)\n",
        "y0 = initial_values[1:]\n",
        "\n",
        "## Time conditions\n",
        "## Obtain time conditions from model\n",
        "t0 = model['variables']['Time']['initial_value']\n",
        "tend = model['observer']['observational_time']['value']\n",
        "tspan = [t0,tend]\n",
        "max_step = 0.01\n",
        "print(f't0 = {t0}')\n",
        "print(f'tend = {tend}')\n",
        "print(f'max_step = {max_step}')"
      ],
      "metadata": {
        "colab": {
          "base_uri": "https://localhost:8080/"
        },
        "id": "JFNJKLkxmZ1f",
        "outputId": "ac887531-d392-49ce-dc4d-c94c66cd90e3"
      },
      "execution_count": 9,
      "outputs": [
        {
          "output_type": "stream",
          "name": "stdout",
          "text": [
            "Parameter symbols: ['beta_max', 'p', 'k', 'T', 'T_opt', 'gamma']\n",
            "Parameter values: [1, 1, 0, 280, 295.5, 0.05]\n",
            "Initial symbol: ['t0', 'w_daysy0', 'b_daysy0']\n",
            "Initial values: [0, 0.1, 0.2]\n",
            "t0 = 0\n",
            "tend = 100\n",
            "max_step = 0.01\n"
          ]
        }
      ]
    },
    {
      "cell_type": "markdown",
      "source": [
        "# Simulate model"
      ],
      "metadata": {
        "id": "KsuOac7ZaF8P"
      }
    },
    {
      "cell_type": "code",
      "source": [
        "args = param_values\n",
        "#solution = solve_ivp(test_model, tspan, y0, args=args, dense_output=True,max_step=max_step)\n",
        "fun = model_fun\n",
        "solution = solve_ivp(fun, tspan, y0, args=args, dense_output=True,max_step=max_step)"
      ],
      "metadata": {
        "id": "dU7Ytj5vaJUU"
      },
      "execution_count": 10,
      "outputs": []
    },
    {
      "cell_type": "markdown",
      "source": [],
      "metadata": {
        "id": "dPeEyAfIGW8W"
      }
    },
    {
      "cell_type": "markdown",
      "source": [
        "# Plots"
      ],
      "metadata": {
        "id": "4ssgmtJ59TQh"
      }
    },
    {
      "cell_type": "markdown",
      "source": [
        "## Phase diagram"
      ],
      "metadata": {
        "id": "PPW5DfCKGadz"
      }
    },
    {
      "cell_type": "code",
      "source": [
        "# Plot phase diagram dynamics\n",
        "fig, ax = plt.subplots(1, 1, figsize=(10, 5))\n",
        "title = 'Phase diagram'\n",
        "x = solution.y[0]\n",
        "y = solution.y[1]\n",
        "label_x = depend_variables_symbol[0]\n",
        "label_y = depend_variables_symbol[1]\n",
        "plt.plot(x, y, 'b-')\n",
        "ax.set_xscale('log')\n",
        "ax.set_yscale('log')\n",
        "plt.xlabel(label_x)\n",
        "plt.ylabel(label_y)\n",
        "plt.title(title)\n",
        "plt.legend()\n",
        "plt.show()"
      ],
      "metadata": {
        "colab": {
          "base_uri": "https://localhost:8080/",
          "height": 529
        },
        "id": "tmEI91aXGdye",
        "outputId": "313a7f96-62b6-48df-fb1f-91b0fd4ed454"
      },
      "execution_count": 11,
      "outputs": [
        {
          "output_type": "stream",
          "name": "stderr",
          "text": [
            "WARNING:matplotlib.legend:No artists with labels found to put in legend.  Note that artists whose label start with an underscore are ignored when legend() is called with no argument.\n"
          ]
        },
        {
          "output_type": "display_data",
          "data": {
            "text/plain": [
              "<Figure size 1000x500 with 1 Axes>"
            ],
            "image/png": "[encoded data removed]"
          },
          "metadata": {}
        }
      ]
    },
    {
      "cell_type": "markdown",
      "source": [
        "# Non-abstracted model"
      ],
      "metadata": {
        "id": "11q1Hv0DGgql"
      }
    },
    {
      "cell_type": "code",
      "source": [
        "# Model\n",
        "def lotka_volterra(t, y, r, a, c, m):\n",
        "  B = y[0]\n",
        "  P = y[1]\n",
        "\n",
        "  dBdt = r * B - a * B *P\n",
        "  dVdt = c * a * B*P  - m*P\n",
        "\n",
        "  dydt = [dBdt, dVdt]\n",
        "\n",
        "  return dydt\n"
      ],
      "metadata": {
        "id": "rI4YQ2KCz7c2"
      },
      "execution_count": 12,
      "outputs": []
    },
    {
      "cell_type": "code",
      "source": [
        "# Integrate Lotka-Volterra\n",
        "# Parameters\n",
        "r = 1\n",
        "a = 0.5\n",
        "c = 0.1\n",
        "m = 2\n",
        "\n",
        "# Conditions\n",
        "B0 = 10\n",
        "P0 = 10\n",
        "tobs = 10\n",
        "tspan = [0, tobs]\n",
        "max_step = 0.01\n",
        "\n",
        "\n",
        "# Dynamics\n",
        "y0 = [B0, P0]\n",
        "t = np.linspace(0, tobs, 1000)\n",
        "\n",
        "# Solution\n",
        "#solution = solve_ivp(lotka_volterra, tspan, y0, args=(r, a, c, m), dense_output=True,max_step=max_step)\n",
        "#solution = solve_ivp(lotka_volterra_comp, tspan, y0, args=(r, a, c, m), dense_output=True,max_step=max_step)\n",
        "solution = solve_ivp(test_model, tspan, y0, args=(r, a, c, m), dense_output=True,max_step=max_step)\n",
        "B = solution.y[0]\n",
        "P = solution.y[1]\n",
        "\n",
        "#y = odeint(lotka_volterra, t, y0, args=(r, a, c, m))\n",
        "#B = y[:, 0]\n",
        "#P = y[:, 1]"
      ],
      "metadata": {
        "id": "1i_J9Pmxz7r9",
        "outputId": "9a8c4767-5276-49d9-b42d-6edc5292c591",
        "colab": {
          "base_uri": "https://localhost:8080/",
          "height": 246
        }
      },
      "execution_count": 13,
      "outputs": [
        {
          "output_type": "error",
          "ename": "NameError",
          "evalue": "ignored",
          "traceback": [
            "\u001b[0;31m---------------------------------------------------------------------------\u001b[0m",
            "\u001b[0;31mNameError\u001b[0m                                 Traceback (most recent call last)",
            "\u001b[0;32m<ipython-input-13-024921b75b5b>\u001b[0m in \u001b[0;36m<cell line: 23>\u001b[0;34m()\u001b[0m\n\u001b[1;32m     21\u001b[0m \u001b[0;31m#solution = solve_ivp(lotka_volterra, tspan, y0, args=(r, a, c, m), dense_output=True,max_step=max_step)\u001b[0m\u001b[0;34m\u001b[0m\u001b[0;34m\u001b[0m\u001b[0m\n\u001b[1;32m     22\u001b[0m \u001b[0;31m#solution = solve_ivp(lotka_volterra_comp, tspan, y0, args=(r, a, c, m), dense_output=True,max_step=max_step)\u001b[0m\u001b[0;34m\u001b[0m\u001b[0;34m\u001b[0m\u001b[0m\n\u001b[0;32m---> 23\u001b[0;31m \u001b[0msolution\u001b[0m \u001b[0;34m=\u001b[0m \u001b[0msolve_ivp\u001b[0m\u001b[0;34m(\u001b[0m\u001b[0mtest_model\u001b[0m\u001b[0;34m,\u001b[0m \u001b[0mtspan\u001b[0m\u001b[0;34m,\u001b[0m \u001b[0my0\u001b[0m\u001b[0;34m,\u001b[0m \u001b[0margs\u001b[0m\u001b[0;34m=\u001b[0m\u001b[0;34m(\u001b[0m\u001b[0mr\u001b[0m\u001b[0;34m,\u001b[0m \u001b[0ma\u001b[0m\u001b[0;34m,\u001b[0m \u001b[0mc\u001b[0m\u001b[0;34m,\u001b[0m \u001b[0mm\u001b[0m\u001b[0;34m)\u001b[0m\u001b[0;34m,\u001b[0m \u001b[0mdense_output\u001b[0m\u001b[0;34m=\u001b[0m\u001b[0;32mTrue\u001b[0m\u001b[0;34m,\u001b[0m\u001b[0mmax_step\u001b[0m\u001b[0;34m=\u001b[0m\u001b[0mmax_step\u001b[0m\u001b[0;34m)\u001b[0m\u001b[0;34m\u001b[0m\u001b[0;34m\u001b[0m\u001b[0m\n\u001b[0m\u001b[1;32m     24\u001b[0m \u001b[0mB\u001b[0m \u001b[0;34m=\u001b[0m \u001b[0msolution\u001b[0m\u001b[0;34m.\u001b[0m\u001b[0my\u001b[0m\u001b[0;34m[\u001b[0m\u001b[0;36m0\u001b[0m\u001b[0;34m]\u001b[0m\u001b[0;34m\u001b[0m\u001b[0;34m\u001b[0m\u001b[0m\n\u001b[1;32m     25\u001b[0m \u001b[0mP\u001b[0m \u001b[0;34m=\u001b[0m \u001b[0msolution\u001b[0m\u001b[0;34m.\u001b[0m\u001b[0my\u001b[0m\u001b[0;34m[\u001b[0m\u001b[0;36m1\u001b[0m\u001b[0;34m]\u001b[0m\u001b[0;34m\u001b[0m\u001b[0;34m\u001b[0m\u001b[0m\n",
            "\u001b[0;31mNameError\u001b[0m: name 'test_model' is not defined"
          ]
        }
      ]
    },
    {
      "cell_type": "code",
      "source": [
        "# Plot phase diagram dynamics\n",
        "fig, ax = plt.subplots(1, 1, figsize=(10, 5))\n",
        "plt.plot(B[:], P[:], 'b-')\n",
        "ax.set_xscale('log')\n",
        "ax.set_yscale('log')\n",
        "plt.xlabel('Bacteria')\n",
        "plt.ylabel('Phage')\n",
        "plt.title('Phase diagram')\n",
        "plt.legend()\n",
        "plt.show()"
      ],
      "metadata": {
        "id": "SicFh4KNz8KO"
      },
      "execution_count": null,
      "outputs": []
    },
    {
      "cell_type": "code",
      "source": [
        "# Integrate pendulum\n",
        "# Parameters\n",
        "g = 9.8\n",
        "l = 1\n",
        "\n",
        "# Conditions\n",
        "Theta0 = 10\n",
        "Omega0 = 1\n",
        "tobs = 100\n",
        "tspan = [0, tobs]\n",
        "max_step = 0.01\n",
        "\n",
        "\n",
        "# Dynamics\n",
        "y0 = [Theta0, Omega0]\n",
        "t = np.linspace(0, tobs, 1000)\n",
        "\n",
        "# Solution\n",
        "#solution = solve_ivp(lotka_volterra, tspan, y0, args=(r, a, c, m), dense_output=True,max_step=max_step)\n",
        "#solution = solve_ivp(lotka_volterra_comp, tspan, y0, args=(r, a, c, m), dense_output=True,max_step=max_step)\n",
        "solution = solve_ivp(test_model, tspan, y0, args=(g, l), dense_output=True,max_step=max_step)\n",
        "Theta = solution.y[0]\n",
        "Omega = solution.y[1]\n",
        "\n",
        "#y = odeint(lotka_volterra, t, y0, args=(r, a, c, m))\n",
        "#B = y[:, 0]\n",
        "#P = y[:, 1]"
      ],
      "metadata": {
        "id": "SRsrVf7KB1Zj"
      },
      "execution_count": null,
      "outputs": []
    },
    {
      "cell_type": "code",
      "source": [
        "Theta = solution.y[0]\n",
        "Omega = solution.y[1]"
      ],
      "metadata": {
        "id": "B3XhGf4njXkY"
      },
      "execution_count": null,
      "outputs": []
    },
    {
      "cell_type": "code",
      "source": [
        "# Plot phase diagram dynamics\n",
        "fig, ax = plt.subplots(1, 1, figsize=(10, 5))\n",
        "plt.plot(Theta[:], Omega[:], 'b-')\n",
        "ax.set_xscale('log')\n",
        "ax.set_yscale('log')\n",
        "plt.xlabel('Theta')\n",
        "plt.ylabel('Omega')\n",
        "plt.title('Phase diagram')\n",
        "plt.legend()\n",
        "plt.show()"
      ],
      "metadata": {
        "id": "GJ2KN_rhCaSO"
      },
      "execution_count": null,
      "outputs": []
    },
    {
      "cell_type": "code",
      "source": [
        "# Model\n",
        "def lotka_volterra(y, t, r, a, c, m):\n",
        "  B = y[0]\n",
        "  P = y[1]\n",
        "\n",
        "  dBdt = r * B - a * B *P\n",
        "  dVdt = c * a * B*P  - m*P\n",
        "\n",
        "  dydt = [dBdt, dVdt]\n",
        "\n",
        "  return dydt\n"
      ],
      "metadata": {
        "id": "Nv68KlUgrn6h"
      },
      "execution_count": null,
      "outputs": []
    },
    {
      "cell_type": "code",
      "source": [
        "# Parameters\n",
        "r = 1\n",
        "a = 0.5\n",
        "c = 0.1\n",
        "m = 2"
      ],
      "metadata": {
        "id": "YsHuf4yTtWLd"
      },
      "execution_count": null,
      "outputs": []
    },
    {
      "cell_type": "code",
      "source": [
        "# Conditions\n",
        "B0 = 10\n",
        "P0 = 10\n",
        "tobs = 10"
      ],
      "metadata": {
        "id": "93OfKKYBtmDm"
      },
      "execution_count": null,
      "outputs": []
    },
    {
      "cell_type": "code",
      "source": [
        "# Dynamics\n",
        "y0 = [B0, P0]\n",
        "t = np.linspace(0, tobs, 1000)\n",
        "\n",
        "# Solution\n",
        "y = odeint(lotka_volterra, y0, t, args=(r, a, c, m))\n",
        "\n",
        "B = y[:, 0]\n",
        "P = y[:, 1]"
      ],
      "metadata": {
        "id": "g6mp7l5Ltgjq"
      },
      "execution_count": null,
      "outputs": []
    },
    {
      "cell_type": "code",
      "source": [
        "# Plot phase diagram dynamics\n",
        "fig, ax = plt.subplots(1, 1, figsize=(10, 5))\n",
        "plt.plot(B[:], P[:], 'b-')\n",
        "ax.set_xscale('log')\n",
        "ax.set_yscale('log')\n",
        "plt.xlabel('Bacteria')\n",
        "plt.ylabel('Phage')\n",
        "plt.title('Phase diagram')\n",
        "plt.legend()\n",
        "plt.show()"
      ],
      "metadata": {
        "id": "lIecF6j4wU6O"
      },
      "execution_count": null,
      "outputs": []
    },
    {
      "cell_type": "code",
      "source": [
        "# Plot individual dynamics\n",
        "fig, ax = plt.subplots(1, 1, figsize=(10, 5))\n",
        "plt.plot(t, B, 'r-', label='Bacteria')\n",
        "plt.plot(t, P, 'b-', label='Phage')\n",
        "ax.set_yscale('log')\n",
        "plt.xlabel('Time')\n",
        "plt.ylabel('Population')\n",
        "plt.title('Population dynamics')\n",
        "plt.legend()\n",
        "plt.show()"
      ],
      "metadata": {
        "id": "hdNBNG4it247"
      },
      "execution_count": null,
      "outputs": []
    },
    {
      "cell_type": "code",
      "source": [
        "# Plot impact of indiviual mechanisms\n",
        "\n",
        "## Mechanisms\n",
        "growth = r*B\n",
        "predation = a*B*P\n",
        "burst = c*a*B*P\n",
        "death = m*P\n",
        "\n",
        "## Percapita and time finit\n",
        "growth_per_B = tobs*growth/B\n",
        "predation_per_B = tobs*predation/B\n",
        "burst_per_P = tobs*burst/P\n",
        "death_per_P = tobs*death/P\n",
        "\n",
        "## Plot\n",
        "fig, ax = plt.subplots(1, 1, figsize=(10, 5))\n",
        "plt.plot(t, growth_per_B, 'r-', label='Growth')\n",
        "plt.plot(t, predation_per_B, 'b-', label='Predation')\n",
        "plt.plot(t, burst_per_P, 'g-', label='Burst')\n",
        "plt.plot(t, death_per_P, 'k-', label='Death')\n",
        "ax.hlines(1, 0, tobs, linestyles='dashed')\n",
        "ax.set_yscale('log')\n",
        "plt.xlabel('Time')\n",
        "plt.ylabel('Contribution to dynamics')\n",
        "plt.title('Percapita and finite time contributions')\n",
        "plt.legend()\n",
        "plt.show()"
      ],
      "metadata": {
        "id": "ZE70n--PqLRh"
      },
      "execution_count": null,
      "outputs": []
    },
    {
      "cell_type": "code",
      "source": [
        "# prompt: Use the simpy package to generate the Lotka-Volterra model used above to display the mathematical equations. No need to solve them.\n",
        "\n",
        "import simpy\n",
        "\n",
        "# Define the model\n",
        "model = simpy.Environment()\n",
        "\n",
        "# Define the parameters\n",
        "r = 1\n",
        "a = 0.5\n",
        "c = 0.1\n",
        "m = 2\n",
        "\n",
        "# Define the states\n",
        "B = simpy.Container(model, initial_value=10)\n",
        "P = simpy.Container(model, initial_value=10)\n",
        "\n",
        "# Define the processes\n",
        "def growth(env, b, p):\n",
        "  while True:\n",
        "    yield env.timeout(1)\n",
        "    b.level += r * b.level\n",
        "\n",
        "def predation(env, b, p):\n",
        "  while True:\n",
        "    yield env.timeout(1)\n",
        "    b.level -= a * b.level * p.level\n",
        "\n",
        "def burst(env, b, p):\n",
        "  while True:\n",
        "    yield env.timeout(1)\n",
        "    p.level += c * a * b.level * p.level\n",
        "\n",
        "def death(env, p):\n",
        "  while True:\n",
        "    yield env.timeout(1)\n",
        "    p.level -= m * p.level\n",
        "\n",
        "# Run the simulation\n",
        "model.run(until=10)\n",
        "\n",
        "# Print the results\n",
        "print(B.level)\n",
        "print(P.level)\n"
      ],
      "metadata": {
        "id": "3qzAk36vwLQQ"
      },
      "execution_count": null,
      "outputs": []
    },
    {
      "cell_type": "code",
      "source": [],
      "metadata": {
        "id": "Uflr28SJz_3X"
      },
      "execution_count": null,
      "outputs": []
    }
  ]
}