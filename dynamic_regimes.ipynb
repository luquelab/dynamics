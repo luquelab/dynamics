{
  "nbformat": 4,
  "nbformat_minor": 0,
  "metadata": {
    "colab": {
      "provenance": [],
      "toc_visible": true,
      "authorship_tag": "ABX9TyO4vgveUWaL5Ag/zBuH9w6j",
      "include_colab_link": true
    },
    "kernelspec": {
      "name": "python3",
      "display_name": "Python 3"
    },
    "language_info": {
      "name": "python"
    }
  },
  "cells": [
    {
      "cell_type": "markdown",
      "metadata": {
        "id": "view-in-github",
        "colab_type": "text"
      },
      "source": [
        "<a href=\"https://colab.research.google.com/github/luquelab/dynamics/blob/Colab/dynamic_regimes.ipynb\" target=\"_parent\"><img src=\"https://colab.research.google.com/assets/colab-badge.svg\" alt=\"Open In Colab\"/></a>"
      ]
    },
    {
      "cell_type": "markdown",
      "source": [
        "# Dynamic Regimes"
      ],
      "metadata": {
        "id": "gifHfZk1bs9U"
      }
    },
    {
      "cell_type": "markdown",
      "source": [
        "## Description\n",
        "This notebook simulates the dynamics of a given dynamical system, estimating the contribution (weight) of each process throuhgout the dynamics based on an specified observational time."
      ],
      "metadata": {
        "id": "kNJlgMGkbyQJ"
      }
    },
    {
      "cell_type": "markdown",
      "source": [
        "## Quick-Start Guide\n",
        "### First-time using: Test Colab notebook\n",
        "1. If this is your first time using the notebook, we recommend that you run the notebook to test it using the default values. Open the Colab menu `Runtime` and select `Run all`.\n",
        "\n",
        "2. As the results are generated, the notebook might request permission to download the **outputs**:\n",
        "  + `dynamics_model.json`: This file contains the simulated model in JSON format.\n",
        "  + `model_fun.py`: This file contains the simulated model as a Python function.\n",
        "  + `dynamics_output.png`: This file contains a plot grid with the dynamics of each dependent variable (columns) and the weights of each process (rows) directly impacting the rate of change of the dynamic variable.\n",
        "\n",
        "3. Compare the outputs with the [test example in the GitHub repo](https://github.com/luquelab/dynamics/blob/Colab/first_time_Colab_test/readme.md). If they match. You're good to go. If they do not match and you didn't see any errors that can guide you how to fix the problem, we recommend you [post an issue in the GitHub repository](https://github.com/luquelab/dynamics/issues) to let the developers know.\n",
        "\n",
        "### After testing Colab notebook\n",
        "1. Go to the [User Input](#scrollTo=User_Input) section.\n",
        "2. The main choice is to either modify the model in the cell or upload a new model (Recommended):\n",
        "    + If you keep the value of `upload` as `False`, then modify the cell section related to the model variables, parameters, and values.\n",
        "    + (Recommended) If you turn the value of `upload` to `True`, when executing the Colab notebook (next step), a file with the model in JSON format (see [examples in the GitHub repository](https://github.com/luquelab/dynamics/tree/Colab/examples)).\n",
        "3. Run the Colab notebook: Open the menu `Runtime` and select `Run all`.\n",
        "4. As in the testing case, the browser might request permission to download the output files (see description above).\n"
      ],
      "metadata": {
        "id": "YBKipJcsi7ir"
      }
    },
    {
      "cell_type": "markdown",
      "source": [
        "## Acknowledgements\n",
        "The notebook is based on ongoing research on transient dynamics by the [Luque lab](https://www.luquelab.com/) and [Rohwer lab](https://coralandphage.org/) with scientists [Sergio Cobo-Lopez](https://scholar.google.com/citations?user=m6m1HV4AAAAJ&hl=en) and [Matthew Witt](https://www.linkedin.com/in/matthew-witt-45b37159/) as first authors of the foundational research contribution. PI [Antoni Luque](https://scholar.google.com/citations?user=ytvnI68AAAAJ&hl=en) led the development of the [Colab notebook software](https://github.com/luquelab/dynamics)."
      ],
      "metadata": {
        "id": "n_bCPBqXBrrY"
      }
    },
    {
      "cell_type": "markdown",
      "source": [
        "# User Input\n",
        "This section allow users to define a new model and its conditions or upload a previously defined model."
      ],
      "metadata": {
        "id": "52YOR44DW7d-"
      }
    },
    {
      "cell_type": "code",
      "source": [
        "# User input\n",
        "\n",
        "## Choose if the model will be uploaded\n",
        "upload = False ## Values: `True` or `False`. If True, it expects to upload model as JSON file.\n",
        "\n",
        "## If upload is False, edit the lines below to define the new model\n",
        "### Set variables info\n",
        "variables = ['Time','Bacteria','Phage']\n",
        "variables_symbols = ['t','B','P']\n",
        "variables_units = ['h','cells/ml','phages/ml']\n",
        "variables_independence = [True,False,False]\n",
        "variables_with_mechanisms = variables[1:]\n",
        "mechanisms = [['growth','predation'],\n",
        "                ['burst','decay']]\n",
        "expressions = [['+r*B','-aB*B*P'],\n",
        "                 ['c*aP*B*P','-m*P']]\n",
        "variables_values = [0,1,1]\n",
        "\n",
        "### Set parameters info\n",
        "parameters = ['growth_constant','infection_constant_to_B',\n",
        "                'burst_size','infection_constant_from_P','decay_constant']\n",
        "parameters_symbols = ['r','aB',\n",
        "                        'c','aP','m']\n",
        "parameters_units = ['1/h','ml/(h*phage)',\n",
        "                      '','ml/(h*cell)','1/h']\n",
        "parameters_values = [1,2,\n",
        "                       3,1,0.1]\n",
        "\n",
        "### Set observer info\n",
        "observational_time = 10\n",
        "observational_time_units = variables_units[0]\n",
        "system_size = 1\n",
        "system_size_units = 'ml'\n",
        "\n",
        "\n",
        "## If upload is True the coad below will request to upload the model (no need to modify)\n",
        "if upload:\n",
        "  # Upload model from JSON file\n",
        "  from google.colab import files\n",
        "  import json\n",
        "\n",
        "  uploaded = files.upload()\n",
        "  model_bytes = next(iter(uploaded.values()))\n",
        "  model = json.loads(model_bytes.decode())\n",
        "  print('Model uploaded')\n"
      ],
      "metadata": {
        "id": "rs6EhpOyXYKR"
      },
      "execution_count": 1,
      "outputs": []
    },
    {
      "cell_type": "markdown",
      "source": [
        "# Set System and Model\n",
        "This section installs any necessary packages, imports the libraries needed for the code, and defines the necessary objects to execute the notebook."
      ],
      "metadata": {
        "id": "xdGG3HQxkR9o"
      }
    },
    {
      "cell_type": "markdown",
      "source": [
        "## Installations\n",
        "The code below installs the necessary packages in the Colab server."
      ],
      "metadata": {
        "id": "kyy3HHATkEsR"
      }
    },
    {
      "cell_type": "code",
      "source": [
        "# Installations\n",
        "## No installations needed yet."
      ],
      "metadata": {
        "id": "WlmRqa33kpzZ"
      },
      "execution_count": 2,
      "outputs": []
    },
    {
      "cell_type": "markdown",
      "source": [
        "## Imports\n",
        "The code below installs the necessary libraries to run the notebook."
      ],
      "metadata": {
        "id": "0RnSz64IktZR"
      }
    },
    {
      "cell_type": "code",
      "source": [
        "# Imports\n",
        "from math import *\n",
        "import numpy as np\n",
        "import matplotlib.pyplot as plt\n",
        "from scipy.integrate import odeint, solve_ivp\n",
        "import json\n",
        "from google.colab import files"
      ],
      "metadata": {
        "id": "hxZWPQD9rkDO"
      },
      "execution_count": 3,
      "outputs": []
    },
    {
      "cell_type": "markdown",
      "source": [
        "## Definitions\n",
        "The code below defines the necessary objects that have been developed specifically for this project and are necessary to generate the model and the results."
      ],
      "metadata": {
        "id": "YfFW_H5Sk5N1"
      }
    },
    {
      "cell_type": "code",
      "source": [
        "# Definitions\n",
        "\n",
        "##############\n",
        "## Class to generate objects containing the necessary information about a model\n",
        "##############\n",
        "class Model:\n",
        "  def __init__(self, observer:dict={}, variables:dict={}, parameters:dict={}):\n",
        "    self.observer = observer\n",
        "    self.variables = variables\n",
        "    self.parameters = parameters\n",
        "\n",
        "  def __str__(self):\n",
        "    return json.dumps(self.__dict__)\n",
        "\n",
        "  def __repr__(self):\n",
        "    return self.__str__()\n",
        "\n",
        "  # Add variables\n",
        "  def add_variables(self, variables:list):\n",
        "    for variable in variables:\n",
        "      self.variables[variable] = {}\n",
        "\n",
        "  # Add symbols to variables\n",
        "  def add_symbols_to_variables(self,variables:list, symbols:list):\n",
        "    for index, variable in enumerate(variables):\n",
        "      self.variables[variable]['symbol'] = symbols[index]\n",
        "\n",
        "  # Add units to variables\n",
        "  def add_units_to_variables(self, variables:list, units:list):\n",
        "    for index, variable in enumerate(variables):\n",
        "      self.variables[variable]['unit'] = units[index]\n",
        "\n",
        "  # Add status to variables\n",
        "  def add_status_to_variables(self,variables:list, independence:list):\n",
        "    for index,variable in enumerate(variables):\n",
        "      self.variables[variable]['independent'] = independence[index]\n",
        "\n",
        "  # Add mechanisms contributing to the rate of change of variables\n",
        "  def add_mechanisms(self, variables:list, mechanisms:list, expressions:list):\n",
        "    for index,variable in enumerate(variables):\n",
        "      self.variables[variable]['mechanisms'] = {}\n",
        "\n",
        "      variable_mechanisms = mechanisms[index]\n",
        "      variable_mechanisms_expressions = expressions[index]\n",
        "      for index,mechanism in enumerate(variable_mechanisms):\n",
        "         self.variables[variable]['mechanisms'][mechanism] = variable_mechanisms_expressions[index]\n",
        "\n",
        "  # Add initial values to variables\n",
        "  def add_initial_values_to_variables(self,variables:list,values:list):\n",
        "    for index,variable in enumerate(variables):\n",
        "      self.variables[variable]['initial_value'] = values[index]\n",
        "\n",
        "  # Add parameters\n",
        "  def add_parameters(self, parameters:list):\n",
        "    for parameter in parameters:\n",
        "      self.parameters[parameter] = {}\n",
        "\n",
        "  # Add symbols to parameters\n",
        "  def add_symbols_to_parameters(self,parameters:list, symbols:list):\n",
        "    for index, parameter in enumerate(parameters):\n",
        "      self.parameters[parameter]['symbol'] = symbols[index]\n",
        "\n",
        "  # Add units to parameters\n",
        "  def add_units_to_parameters(self, parameters:list, units:list):\n",
        "    for index, parameter in enumerate(parameters):\n",
        "      self.parameters[parameter]['unit'] = units[index]\n",
        "\n",
        "  # Add initial values to parameters\n",
        "  def add_initial_values_to_parameters(self,parameters:list,values:list):\n",
        "    for index,parameter in enumerate(parameters):\n",
        "      self.parameters[parameter]['value'] = values[index]\n",
        "\n",
        "  # Add observer time\n",
        "  def add_observer_time(self, observational_time:float, units:str):\n",
        "    self.observer['observational_time'] = {}\n",
        "    self.observer['observational_time']['unit'] = units\n",
        "    self.observer['observational_time']['value'] = observational_time\n",
        "\n",
        "  # Add system size\n",
        "  def add_system_size(self, system_size:float, units:str):\n",
        "    self.observer['system_size'] = {}\n",
        "    self.observer['system_size']['unit'] = units\n",
        "    self.observer['system_size']['value'] = system_size\n",
        "\n",
        "\n",
        "################\n",
        "## Function that generates the system of differential equations given a model\n",
        "################\n",
        "def generate_model_system(model:dict):\n",
        "  \"\"\"\n",
        "  Function generating a function for the differential equations of a given model.\n",
        "\n",
        "  Args:\n",
        "      model (dict): Dictionary describing the model\n",
        "\n",
        "  Returns:\n",
        "      str: Python code defining the function for the model\n",
        "  \"\"\"\n",
        "  system = ''\n",
        "\n",
        "  # Iterate over the dependent variables in the model\n",
        "  for variable in model['variables']:\n",
        "\n",
        "    # Load dictionary associated with the variable\n",
        "    variable_dict = model['variables'][variable]\n",
        "\n",
        "    # Chaeck is independency and accept if False\n",
        "    independent = variable_dict['independent']\n",
        "    if not independent:\n",
        "\n",
        "      # Build equation for the variable\n",
        "      symbol = variable_dict['symbol']\n",
        "      equation = symbol+'_dot = '\n",
        "      for mechanism in variable_dict['mechanisms']:\n",
        "        expression = variable_dict['mechanisms'][mechanism]\n",
        "        equation += expression+' '\n",
        "\n",
        "      # Update system\n",
        "      system += equation+'\\n'\n",
        "  return system\n",
        "\n",
        "\n",
        "########\n",
        "## Function to obtain the symbols of the variables\n",
        "########\n",
        "def get_variables_symbols(model:dict):\n",
        "  \"\"\"\n",
        "  Function that obtains the symbols of the variables of a model.\n",
        "  Uses a model as input and returns a tuple with the symbols of the variables.\n",
        "\n",
        "  Args:\n",
        "      model (dict): Dictionary describing the model\n",
        "\n",
        "  Returns:\n",
        "      Tuple: Two objects\n",
        "        Str: Symbol for the independent variable\n",
        "        List: Symbols for the dependent variables\n",
        "  \"\"\"\n",
        "\n",
        "  # Set list for dependent variables\n",
        "  dependent_variables_symbol = []\n",
        "\n",
        "  # Obtain variable symbols\n",
        "  for variable in model['variables']:\n",
        "\n",
        "    # Obtain dictionary for each variable\n",
        "    variable_dict = model['variables'][variable]\n",
        "\n",
        "    # Distinguish between independent and dependent variables\n",
        "    independence = variable_dict['independent']\n",
        "    if independence:\n",
        "      # Obtain and store symbol\n",
        "      variable_symbol = variable_dict['symbol']\n",
        "      independent_variable_symbol = variable_symbol\n",
        "\n",
        "    else:\n",
        "      # Obtain and store symbol\n",
        "      variable_symbol = variable_dict['symbol']\n",
        "\n",
        "      # Append symbol and value to list\n",
        "      dependent_variables_symbol.append(variable_symbol)\n",
        "\n",
        "  # Return variables\n",
        "  output = (independent_variable_symbol,dependent_variables_symbol)\n",
        "  return output\n",
        "\n",
        "################\n",
        "## Function to obtain the parameter values of the model\n",
        "################\n",
        "def get_model_parameters(model:dict):\n",
        "  \"\"\"\n",
        "  Function that obtains the peramaters of a given model.\n",
        "  It expects a model as a dictionary and returns the symbols and values each as a tuple.\n",
        "\n",
        "  Args:\n",
        "      model (dict): Dictionary describing the model\n",
        "\n",
        "  Returns:\n",
        "      List: Two tuples\n",
        "        tuple: symbols associated with the parameters.\n",
        "        tuple: values associated with the parameters.\n",
        "  \"\"\"\n",
        "\n",
        "  # Obtain dictionary for the parameters\n",
        "  parameters = model['parameters']\n",
        "\n",
        "  # Set the lists that later will become tuples\n",
        "  param_symbols_list = []\n",
        "  param_values_list = []\n",
        "  for parameter in parameters:\n",
        "    # Obtain the dictionary for the specific parameter\n",
        "    parameter_dict = parameters[parameter]\n",
        "\n",
        "    # Obtain and store symbol\n",
        "    symbol = parameter_dict['symbol']\n",
        "    param_symbols_list.append(symbol)\n",
        "\n",
        "    # Obtain and store value\n",
        "    value = parameter_dict['value']\n",
        "    param_values_list.append(value)\n",
        "\n",
        "  # Print what was obtained\n",
        "  print(f'Parameter symbols: {param_symbols_list}')\n",
        "  print(f'Parameter values: {param_values_list}')\n",
        "\n",
        "  # Return the results as tuples\n",
        "  param_symbols = tuple(param_symbols_list)\n",
        "  param_values = tuple(param_values_list)\n",
        "  output = [param_symbols,param_values]\n",
        "  return output\n",
        "\n",
        "\n",
        "\n",
        "############\n",
        "## Function that returns the initial conditions for the variables in the model\n",
        "############\n",
        "def get_initial_conditions(model:dict):\n",
        "  \"\"\"\n",
        "  Function that returns the initial conditions of the variables.\n",
        "\n",
        "  Args:\n",
        "      model (dict): Dictionary describing the model\n",
        "\n",
        "  Returns:\n",
        "      Tuple: Two lists\n",
        "        List: Symbols for the initial conditions\n",
        "        List: Values for the initial conditions\n",
        "  \"\"\"\n",
        "\n",
        "  # Initiate lists\n",
        "  initial_conditions_list = []\n",
        "  initial_variables_list = []\n",
        "\n",
        "  # Obtain dictionary for variables and loop through them\n",
        "  variables = model['variables']\n",
        "  for variable in variables:\n",
        "    # Obtain dictionary for each variable\n",
        "    variable_dict = variables[variable]\n",
        "\n",
        "    # Obtain and store symbol\n",
        "    symbol = variable_dict['symbol']\n",
        "    initial_variables_list.append(symbol+'0')\n",
        "\n",
        "    # Obtain and store value\n",
        "    value = variable_dict['initial_value']\n",
        "    initial_conditions_list.append(value)\n",
        "\n",
        "  # Print output\n",
        "  print(f'Initial symbol: {initial_variables_list}')\n",
        "  print(f'Initial values: {initial_conditions_list}')\n",
        "\n",
        "  # Prepare output as tuple for return\n",
        "  output = (initial_variables_list,initial_conditions_list)\n",
        "  return output\n",
        "\n",
        "\n",
        "#######\n",
        "## Function to generate the model equation as a python function .py\n",
        "#######\n",
        "def generate_model_fun(param_symbols:tuple,depend_variables_symbol:list,model_eqs:str):\n",
        "  \"\"\"\n",
        "  Function that generates the python function for the model in a .py file.\n",
        "  It takes the parameter symbols, dependent variable sybmols, and system of equations.\n",
        "  It returns a string with the model and generates the python function as a file.py\n",
        "  !!!! If the model was defined as a class with methods, this function would be more straightforward.\n",
        "\n",
        "  Args:\n",
        "    param_symbols: tuple of parameter symbols\n",
        "    depend_variables_symbol: list of dependent variable symbols\n",
        "    model_eqs: string of the system of equations\n",
        "\n",
        "  Returns:\n",
        "    output: string of the python code\n",
        "  \"\"\"\n",
        "\n",
        "  ## Initialize output string\n",
        "  output = ''\n",
        "\n",
        "  ## Open file\n",
        "  name = 'model_fun'\n",
        "  file = open(f'{name}.py','w')\n",
        "\n",
        "  ## Write definition line\n",
        "  params = ','.join(param_symbols)\n",
        "  definition = f'def {name}(t,y,{params}):' + '\\n'\n",
        "  file.write(definition)\n",
        "  output += definition\n",
        "\n",
        "  ## Write initial values\n",
        "  index = 0\n",
        "  for symbol in depend_variables_symbol:\n",
        "    line = '\\t' + f'{symbol} = y[{index}]'  + '\\n'\n",
        "    output += line\n",
        "    file.write(line)\n",
        "    index += 1\n",
        "\n",
        "  ## Write system of equations\n",
        "\n",
        "  line = '\\n'\n",
        "  output += line\n",
        "  file.write(line)\n",
        "  eqs_list = model_eqs.split('\\n')\n",
        "  for equation in eqs_list:\n",
        "    eq_line = '\\t' + equation  + '\\n'\n",
        "    output += eq_line\n",
        "    file.write(eq_line)\n",
        "\n",
        "  ## Write formatted output for y_dot\n",
        "  y_dot = 'y_dot = ['\n",
        "  for equation in eqs_list:\n",
        "    # Obtain and recast the symbols for the derivatives to the generic y_dot\n",
        "    variable_dot = equation.split('=')[0]\n",
        "    y_dot += variable_dot +','\n",
        "\n",
        "  y_dot = y_dot.rstrip(',')\n",
        "  y_dot += ']'\n",
        "  y_dot_line = '\\t'+ y_dot  + '\\n'\n",
        "\n",
        "  output += y_dot_line\n",
        "  file.write(y_dot_line)\n",
        "\n",
        "  ## Write return output\n",
        "  return_line = '\\t'+ 'return y_dot'\n",
        "  output += return_line\n",
        "  file.write(return_line)\n",
        "\n",
        "  ## Close file\n",
        "  file.close()\n",
        "\n",
        "  ## Return output\n",
        "  return output\n",
        "\n",
        "\n",
        "#######\n",
        "## Function that generates a python function (as .py file) given a mechanism\n",
        "#######\n",
        "def generate_func_mechanism(param_symbols:tuple,depend_variables_symbol:list,mechanism:str,name:str):\n",
        "  \"\"\"\n",
        "  Function that generates python functions as .py files for the mechanisms of the model.\n",
        "  It takes the parameter symbols, dependent variable sybmols, and system of equations.\n",
        "  It returns python functions as a file.py\n",
        "  !!!! If the model was defined as a class with methods, this function would be more straightforward.\n",
        "\n",
        "  Args:\n",
        "    param_symbols: tuple of parameter symbols\n",
        "    depend_variables_symbol: list of dependent variable symbols\n",
        "    mechanism: string of the system of equations\n",
        "    name: name of the function to be generated\n",
        "\n",
        "  Returns:\n",
        "    output: string of the python code\n",
        "    file: name.py file with the python code\n",
        "  \"\"\"\n",
        "\n",
        "  ## Initialize output string\n",
        "  output = ''\n",
        "\n",
        "  ## Open file\n",
        "  file = open(f'{name}.py','w')\n",
        "\n",
        "  ## Write definition line\n",
        "  params = ','.join(param_symbols)\n",
        "  definition = f'def {name}(t,y,{params}):' + '\\n'\n",
        "  file.write(definition)\n",
        "  output += definition\n",
        "\n",
        "  ## Write initial values\n",
        "  index = 0\n",
        "  for symbol in depend_variables_symbol:\n",
        "    line = '\\t' + f'{symbol} = y[{index}]'  + '\\n'\n",
        "    output += line\n",
        "    file.write(line)\n",
        "    index += 1\n",
        "\n",
        "  ## Write return output\n",
        "  return_line = '\\n\\t'+ f'return {mechanism}'\n",
        "  output += return_line\n",
        "  file.write(return_line)\n",
        "\n",
        "  ## Close file\n",
        "  file.close()\n",
        "\n",
        "  ## Return output\n",
        "  return output"
      ],
      "metadata": {
        "id": "xlUnVzsQ9C0h"
      },
      "execution_count": 4,
      "outputs": []
    },
    {
      "cell_type": "markdown",
      "source": [
        "# Model and Conditions\n",
        "This section provides the code to facilitate users to set their specific models and observational conditions of interest."
      ],
      "metadata": {
        "id": "Q51foCJOl14A"
      }
    },
    {
      "cell_type": "markdown",
      "source": [
        "## Set Model\n",
        "The code below allows users to define their specific model, which is expected to be based on a system of differential equations. The system is expected to have a single independent variable, assumed to be time."
      ],
      "metadata": {
        "id": "MHV1YlHjlWMa"
      }
    },
    {
      "cell_type": "code",
      "source": [
        "# Set model\n",
        "## The code below will run to generate the model if the user chose upload=False.\n",
        "if not upload:\n",
        "  # Set model instance\n",
        "  model_object = Model()\n",
        "\n",
        "  ## Set observer info\n",
        "  observational_time = 10\n",
        "  observational_time_units = variables_units[0]\n",
        "  system_size = 1\n",
        "  system_size_units = 'ml'\n",
        "\n",
        "  ## Load variables info to the model\n",
        "  model_object.add_variables(variables)\n",
        "  model_object.add_symbols_to_variables(variables,variables_symbols)\n",
        "  model_object.add_units_to_variables(variables,variables_units)\n",
        "  model_object.add_status_to_variables(variables,variables_independence)\n",
        "  model_object.add_mechanisms(variables_with_mechanisms,mechanisms,expressions)\n",
        "  model_object.add_initial_values_to_variables(variables,variables_values)\n",
        "\n",
        "  ## Load parameters info to the model\n",
        "  model_object.add_parameters(parameters)\n",
        "  model_object.add_symbols_to_parameters(parameters,parameters_symbols)\n",
        "  model_object.add_units_to_parameters(parameters,parameters_units)\n",
        "  model_object.add_initial_values_to_parameters(parameters,parameters_values)\n",
        "\n",
        "  ## Load observer info to the model\n",
        "  model_object.add_observer_time(observational_time,observational_time_units)\n",
        "  model_object.add_system_size(system_size,system_size_units)\n",
        "\n",
        "  model = model_object.__dict__\n",
        "\n",
        "  ## Store model\n",
        "  with open(f'model.json', 'w') as file:\n",
        "    json.dump(model, file, indent=4)\n"
      ],
      "metadata": {
        "id": "OuXKJumw8TGu"
      },
      "execution_count": 5,
      "outputs": []
    },
    {
      "cell_type": "code",
      "source": [
        "# Display model\n",
        "model"
      ],
      "metadata": {
        "colab": {
          "base_uri": "https://localhost:8080/"
        },
        "id": "tNQ17VptZXhf",
        "outputId": "a1d92ea6-74b3-40fd-e8a1-8192b8ec2975"
      },
      "execution_count": 6,
      "outputs": [
        {
          "output_type": "execute_result",
          "data": {
            "text/plain": [
              "{'observer': {'observational_time': {'unit': 'h', 'value': 10},\n",
              "  'system_size': {'unit': 'ml', 'value': 1}},\n",
              " 'variables': {'Time': {'symbol': 't',\n",
              "   'unit': 'h',\n",
              "   'independent': True,\n",
              "   'initial_value': 0},\n",
              "  'Bacteria': {'symbol': 'B',\n",
              "   'unit': 'cells/ml',\n",
              "   'independent': False,\n",
              "   'mechanisms': {'growth': '+r*B', 'predation': '-aB*B*P'},\n",
              "   'initial_value': 1},\n",
              "  'Phage': {'symbol': 'P',\n",
              "   'unit': 'phages/ml',\n",
              "   'independent': False,\n",
              "   'mechanisms': {'burst': 'c*aP*B*P', 'decay': '-m*P'},\n",
              "   'initial_value': 1}},\n",
              " 'parameters': {'growth_constant': {'symbol': 'r', 'unit': '1/h', 'value': 1},\n",
              "  'infection_constant_to_B': {'symbol': 'aB',\n",
              "   'unit': 'ml/(h*phage)',\n",
              "   'value': 2},\n",
              "  'burst_size': {'symbol': 'c', 'unit': '', 'value': 3},\n",
              "  'infection_constant_from_P': {'symbol': 'aP',\n",
              "   'unit': 'ml/(h*cell)',\n",
              "   'value': 1},\n",
              "  'decay_constant': {'symbol': 'm', 'unit': '1/h', 'value': 0.1}}}"
            ]
          },
          "metadata": {},
          "execution_count": 6
        }
      ]
    },
    {
      "cell_type": "code",
      "source": [
        "#  Download model as json for reproducibility\n",
        "## Convert model from dictionary to json and save as a file\n",
        "file_name = 'dynamics_model.json'\n",
        "file_tmp = open(file_name,'w')\n",
        "json.dump(model,file_tmp,indent=4)\n",
        "file_tmp.close()\n",
        "\n",
        "## Download the json model\n",
        "files.download(file_name)"
      ],
      "metadata": {
        "colab": {
          "base_uri": "https://localhost:8080/",
          "height": 17
        },
        "id": "PQXzZU5t4QTl",
        "outputId": "e43be564-c4b6-4e3d-82f4-7737a810497c"
      },
      "execution_count": 7,
      "outputs": [
        {
          "output_type": "display_data",
          "data": {
            "text/plain": [
              "<IPython.core.display.Javascript object>"
            ],
            "application/javascript": [
              "\n",
              "    async function download(id, filename, size) {\n",
              "      if (!google.colab.kernel.accessAllowed) {\n",
              "        return;\n",
              "      }\n",
              "      const div = document.createElement('div');\n",
              "      const label = document.createElement('label');\n",
              "      label.textContent = `Downloading \"${filename}\": `;\n",
              "      div.appendChild(label);\n",
              "      const progress = document.createElement('progress');\n",
              "      progress.max = size;\n",
              "      div.appendChild(progress);\n",
              "      document.body.appendChild(div);\n",
              "\n",
              "      const buffers = [];\n",
              "      let downloaded = 0;\n",
              "\n",
              "      const channel = await google.colab.kernel.comms.open(id);\n",
              "      // Send a message to notify the kernel that we're ready.\n",
              "      channel.send({})\n",
              "\n",
              "      for await (const message of channel.messages) {\n",
              "        // Send a message to notify the kernel that we're ready.\n",
              "        channel.send({})\n",
              "        if (message.buffers) {\n",
              "          for (const buffer of message.buffers) {\n",
              "            buffers.push(buffer);\n",
              "            downloaded += buffer.byteLength;\n",
              "            progress.value = downloaded;\n",
              "          }\n",
              "        }\n",
              "      }\n",
              "      const blob = new Blob(buffers, {type: 'application/binary'});\n",
              "      const a = document.createElement('a');\n",
              "      a.href = window.URL.createObjectURL(blob);\n",
              "      a.download = filename;\n",
              "      div.appendChild(a);\n",
              "      a.click();\n",
              "      div.remove();\n",
              "    }\n",
              "  "
            ]
          },
          "metadata": {}
        },
        {
          "output_type": "display_data",
          "data": {
            "text/plain": [
              "<IPython.core.display.Javascript object>"
            ],
            "application/javascript": [
              "download(\"download_fc7b0200-b10d-419a-9bad-762c1287e99b\", \"dynamics_model.json\", 1554)"
            ]
          },
          "metadata": {}
        }
      ]
    },
    {
      "cell_type": "markdown",
      "source": [
        "### Generate equations"
      ],
      "metadata": {
        "id": "D5ZF6xhcUpR9"
      }
    },
    {
      "cell_type": "code",
      "source": [
        "# Generate and display equations\n",
        "model_eqs = generate_model_system(model=model)\n",
        "print(model_eqs)"
      ],
      "metadata": {
        "colab": {
          "base_uri": "https://localhost:8080/"
        },
        "id": "G8y-liRAHyc0",
        "outputId": "3205d50f-059d-477e-c9e4-e1309433e9bf"
      },
      "execution_count": 8,
      "outputs": [
        {
          "output_type": "stream",
          "name": "stdout",
          "text": [
            "B_dot = +r*B -aB*B*P \n",
            "P_dot = c*aP*B*P -m*P \n",
            "\n"
          ]
        }
      ]
    },
    {
      "cell_type": "markdown",
      "source": [
        "### Generate python functions"
      ],
      "metadata": {
        "id": "juFEfrjcDrHZ"
      }
    },
    {
      "cell_type": "code",
      "source": [
        "# Load the model as a function that can be integrated\n",
        "\n",
        "## Get symbols for dependent variables and\n",
        "indep_variable_symbol, depend_variables_symbol = get_variables_symbols(model)\n",
        "param_symbols, param_values = get_model_parameters(model)\n",
        "model_fun_str = generate_model_fun(param_symbols,depend_variables_symbol,model_eqs)\n",
        "print(model_fun_str)\n",
        "exec(model_fun_str)"
      ],
      "metadata": {
        "colab": {
          "base_uri": "https://localhost:8080/"
        },
        "id": "Tcg7v7PpOemx",
        "outputId": "72731b1a-fcf4-472c-c401-84103417d776"
      },
      "execution_count": 9,
      "outputs": [
        {
          "output_type": "stream",
          "name": "stdout",
          "text": [
            "Parameter symbols: ['r', 'aB', 'c', 'aP', 'm']\n",
            "Parameter values: [1, 2, 3, 1, 0.1]\n",
            "def model_fun(t,y,r,aB,c,aP,m):\n",
            "\tB = y[0]\n",
            "\tP = y[1]\n",
            "\n",
            "\tB_dot = +r*B -aB*B*P \n",
            "\tP_dot = c*aP*B*P -m*P \n",
            "\t\n",
            "\ty_dot = [B_dot ,P_dot ]\n",
            "\treturn y_dot\n"
          ]
        }
      ]
    },
    {
      "cell_type": "code",
      "source": [
        "# Download model function\n",
        "name = 'model_fun.py'\n",
        "files.download(name)\n"
      ],
      "metadata": {
        "colab": {
          "base_uri": "https://localhost:8080/",
          "height": 17
        },
        "id": "L9PNyEYK7sXP",
        "outputId": "33263051-e185-48af-c9ea-8a6ef81b208d"
      },
      "execution_count": 10,
      "outputs": [
        {
          "output_type": "display_data",
          "data": {
            "text/plain": [
              "<IPython.core.display.Javascript object>"
            ],
            "application/javascript": [
              "\n",
              "    async function download(id, filename, size) {\n",
              "      if (!google.colab.kernel.accessAllowed) {\n",
              "        return;\n",
              "      }\n",
              "      const div = document.createElement('div');\n",
              "      const label = document.createElement('label');\n",
              "      label.textContent = `Downloading \"${filename}\": `;\n",
              "      div.appendChild(label);\n",
              "      const progress = document.createElement('progress');\n",
              "      progress.max = size;\n",
              "      div.appendChild(progress);\n",
              "      document.body.appendChild(div);\n",
              "\n",
              "      const buffers = [];\n",
              "      let downloaded = 0;\n",
              "\n",
              "      const channel = await google.colab.kernel.comms.open(id);\n",
              "      // Send a message to notify the kernel that we're ready.\n",
              "      channel.send({})\n",
              "\n",
              "      for await (const message of channel.messages) {\n",
              "        // Send a message to notify the kernel that we're ready.\n",
              "        channel.send({})\n",
              "        if (message.buffers) {\n",
              "          for (const buffer of message.buffers) {\n",
              "            buffers.push(buffer);\n",
              "            downloaded += buffer.byteLength;\n",
              "            progress.value = downloaded;\n",
              "          }\n",
              "        }\n",
              "      }\n",
              "      const blob = new Blob(buffers, {type: 'application/binary'});\n",
              "      const a = document.createElement('a');\n",
              "      a.href = window.URL.createObjectURL(blob);\n",
              "      a.download = filename;\n",
              "      div.appendChild(a);\n",
              "      a.click();\n",
              "      div.remove();\n",
              "    }\n",
              "  "
            ]
          },
          "metadata": {}
        },
        {
          "output_type": "display_data",
          "data": {
            "text/plain": [
              "<IPython.core.display.Javascript object>"
            ],
            "application/javascript": [
              "download(\"download_0d9c6aaf-5662-4fdd-9eec-57c72f84ca94\", \"model_fun.py\", 140)"
            ]
          },
          "metadata": {}
        }
      ]
    },
    {
      "cell_type": "markdown",
      "source": [
        "## Set Conditions\n",
        "This section allow users to define their observational time, the initial conditions for the dynamic variables, and the values of the parameters in the model."
      ],
      "metadata": {
        "id": "NzQaOXJumRQD"
      }
    },
    {
      "cell_type": "code",
      "source": [
        "# Conditions\n",
        "\n",
        "## Parameters\n",
        "[param_symbols,param_values] = get_model_parameters(model=model)\n",
        "\n",
        "## Initial values\n",
        "inital_symbols, initial_values = get_initial_conditions(model=model)\n",
        "y0 = initial_values[1:]\n",
        "\n",
        "## Time conditions\n",
        "## Obtain time conditions from model\n",
        "t0 = model['variables']['Time']['initial_value']\n",
        "tend = model['observer']['observational_time']['value']\n",
        "tspan = [t0,tend]\n",
        "max_step = 0.01\n",
        "print(f't0 = {t0}')\n",
        "print(f'tend = {tend}')\n",
        "print(f'max_step = {max_step}')"
      ],
      "metadata": {
        "colab": {
          "base_uri": "https://localhost:8080/"
        },
        "id": "JFNJKLkxmZ1f",
        "outputId": "267e5c0d-6844-48f9-fa5c-9779b3601885"
      },
      "execution_count": 11,
      "outputs": [
        {
          "output_type": "stream",
          "name": "stdout",
          "text": [
            "Parameter symbols: ['r', 'aB', 'c', 'aP', 'm']\n",
            "Parameter values: [1, 2, 3, 1, 0.1]\n",
            "Initial symbol: ['t0', 'B0', 'P0']\n",
            "Initial values: [0, 1, 1]\n",
            "t0 = 0\n",
            "tend = 10\n",
            "max_step = 0.01\n"
          ]
        }
      ]
    },
    {
      "cell_type": "markdown",
      "source": [
        "# Simulate model"
      ],
      "metadata": {
        "id": "KsuOac7ZaF8P"
      }
    },
    {
      "cell_type": "code",
      "source": [
        "args = param_values\n",
        "#solution = solve_ivp(test_model, tspan, y0, args=args, dense_output=True,max_step=max_step)\n",
        "fun = model_fun\n",
        "solution = solve_ivp(fun, tspan, y0, args=args, dense_output=True,max_step=max_step)"
      ],
      "metadata": {
        "id": "dU7Ytj5vaJUU"
      },
      "execution_count": 12,
      "outputs": []
    },
    {
      "cell_type": "markdown",
      "source": [
        "# Obtain mechanisms' weigths"
      ],
      "metadata": {
        "id": "dPeEyAfIGW8W"
      }
    },
    {
      "cell_type": "markdown",
      "source": [
        "## Generate functions for each mechanism"
      ],
      "metadata": {
        "id": "BE4LAquu1QsM"
      }
    },
    {
      "cell_type": "code",
      "source": [
        "# Identify mechanisms for each dependent variable\n",
        "print('Generating a function for each mechanism (STARTED)')\n",
        "\n",
        "## Loop over variables\n",
        "for variable in model['variables'].keys():\n",
        "\n",
        "  ### Select only if the variable is dependent\n",
        "  independence = model['variables'][variable]['independent']\n",
        "  if not independence:\n",
        "    print(f'\\nVariable: {variable}')\n",
        "\n",
        "    model['variables'][variable]['functions'] = {}\n",
        "\n",
        "    #### Loop over mechanisms\n",
        "    for mechanism in model['variables'][variable]['mechanisms']:\n",
        "      print(f'\\n\\tMechanism: {mechanism}')\n",
        "\n",
        "      #### Obtain mechanism's math expression\n",
        "      expression = model['variables'][variable]['mechanisms'][mechanism]\n",
        "      print(f'\\tExpression: {expression}')\n",
        "\n",
        "      #### Generate mechanisms' function\n",
        "      name = f'{variable}_{mechanism}'\n",
        "      function_str = generate_func_mechanism(param_symbols=param_symbols,depend_variables_symbol=depend_variables_symbol,mechanism=expression,name=name)\n",
        "      exec(function_str)\n",
        "      print(f'\\t{name}.py has been generated and loaded.')\n",
        "\n",
        "      ### Add function name to model\n",
        "      dict_tmp = {mechanism : name}\n",
        "      model['variables'][variable]['functions'].update(dict_tmp)\n",
        "      print(f'\\tThe function name has been added to the model.')\n",
        "\n",
        "## Obtain function arguments (common)\n",
        "func_mech_args = function_str.split('(')[1].split(')')[0]\n",
        "print('\\nThe common arguments for the functions have been stored.')\n",
        "\n",
        "## END\n",
        "print('\\nGenerating a function for each mechanism (COMPLETED)')"
      ],
      "metadata": {
        "colab": {
          "base_uri": "https://localhost:8080/"
        },
        "id": "flHbzBcU1NyE",
        "outputId": "d481ed61-8d10-4458-ab8c-721024cddc08"
      },
      "execution_count": 13,
      "outputs": [
        {
          "output_type": "stream",
          "name": "stdout",
          "text": [
            "Generating a function for each mechanism (STARTED)\n",
            "\n",
            "Variable: Bacteria\n",
            "\n",
            "\tMechanism: growth\n",
            "\tExpression: +r*B\n",
            "\tBacteria_growth.py has been generated and loaded.\n",
            "\tThe function name has been added to the model.\n",
            "\n",
            "\tMechanism: predation\n",
            "\tExpression: -aB*B*P\n",
            "\tBacteria_predation.py has been generated and loaded.\n",
            "\tThe function name has been added to the model.\n",
            "\n",
            "Variable: Phage\n",
            "\n",
            "\tMechanism: burst\n",
            "\tExpression: c*aP*B*P\n",
            "\tPhage_burst.py has been generated and loaded.\n",
            "\tThe function name has been added to the model.\n",
            "\n",
            "\tMechanism: decay\n",
            "\tExpression: -m*P\n",
            "\tPhage_decay.py has been generated and loaded.\n",
            "\tThe function name has been added to the model.\n",
            "\n",
            "The common arguments for the functions have been stored.\n",
            "\n",
            "Generating a function for each mechanism (COMPLETED)\n"
          ]
        }
      ]
    },
    {
      "cell_type": "markdown",
      "source": [
        "## Obtain series for mechanisms"
      ],
      "metadata": {
        "id": "O2XoP98lYPoz"
      }
    },
    {
      "cell_type": "code",
      "source": [
        "# Navigate the mechanisms and generate vector time series\n",
        "print('Obtaining time series values for mechanisms (STARTED)')\n",
        "## Assign simulation outputs to generic variables\n",
        "t = solution.t\n",
        "y = solution.y\n",
        "print('Simulation values assigned.')\n",
        "\n",
        "## Assign parameters to original names\n",
        "for i, param in enumerate(param_symbols):\n",
        "  exec(f'{param} = {param_values[i]}')\n",
        "print('Parameter values assigned.')\n",
        "\n",
        "## Loop over variables\n",
        "for variable in model['variables'].keys():\n",
        "\n",
        "  ### Select only if the variable is dependent\n",
        "  independence = model['variables'][variable]['independent']\n",
        "  if not independence:\n",
        "    print(f'Variable: {variable}')\n",
        "\n",
        "    for function in model['variables'][variable]['functions'].keys():\n",
        "      ### Obtain function name\n",
        "      function_name = model['variables'][variable]['functions'][function]\n",
        "      print(f'\\tFunction name: {function_name}')\n",
        "\n",
        "      series_name = f'{function_name}_t'\n",
        "      exec(f'{series_name} = {function_name}({func_mech_args})')\n",
        "      print(f'\\t{series_name} stored.')\n",
        "\n",
        "      ### Obtain function arguments\n",
        "      func_mech_args = function_str.split('(')[1].split(')')[0]\n",
        "\n",
        "print('\\nObtaining time series values for mechanisms (COMPLETED)')"
      ],
      "metadata": {
        "colab": {
          "base_uri": "https://localhost:8080/"
        },
        "id": "4hMzC_cxYVib",
        "outputId": "d05a373e-c82c-4cd6-c409-4d352d11913b"
      },
      "execution_count": 14,
      "outputs": [
        {
          "output_type": "stream",
          "name": "stdout",
          "text": [
            "Obtaining time series values for mechanisms (STARTED)\n",
            "Simulation values assigned.\n",
            "Parameter values assigned.\n",
            "Variable: Bacteria\n",
            "\tFunction name: Bacteria_growth\n",
            "\tBacteria_growth_t stored.\n",
            "\tFunction name: Bacteria_predation\n",
            "\tBacteria_predation_t stored.\n",
            "Variable: Phage\n",
            "\tFunction name: Phage_burst\n",
            "\tPhage_burst_t stored.\n",
            "\tFunction name: Phage_decay\n",
            "\tPhage_decay_t stored.\n",
            "\n",
            "Obtaining time series values for mechanisms (COMPLETED)\n"
          ]
        }
      ]
    },
    {
      "cell_type": "markdown",
      "source": [
        "## Obtain weighted mechanisms series"
      ],
      "metadata": {
        "id": "BTr-hGLdlej6"
      }
    },
    {
      "cell_type": "code",
      "source": [
        "# Obtain the relative weight of the mechanisms based on time scale and per-capita reference\n",
        "print('Obtaining time series values for the weights (STARTED)')\n",
        "\n",
        "## Assign simulation outputs to generic variables\n",
        "t = solution.t\n",
        "y = solution.y\n",
        "print('Simulation values assigned.')\n",
        "\n",
        "## Timescale\n",
        "t_scale = t.max() - t.min()\n",
        "print('Time scale assigned.')\n",
        "\n",
        "## Assign parameters to original names\n",
        "for i, param in enumerate(param_symbols):\n",
        "  exec(f'{param} = {param_values[i]}')\n",
        "print('Parameter values assigned.')\n",
        "\n",
        "## Loop over variables\n",
        "i = 0\n",
        "for variable in model['variables'].keys():\n",
        "\n",
        "  ### Select only if the variable is dependent\n",
        "  independence = model['variables'][variable]['independent']\n",
        "\n",
        "  jmax =0\n",
        "  if not independence:\n",
        "    print(f'Variable: {variable}')\n",
        "    per_cap_ref = y[i]\n",
        "\n",
        "    #### Onbtain mechanism\n",
        "    for j, mechanism in enumerate(model['variables'][variable]['mechanisms']):\n",
        "      print(f'\\tMechanism: {mechanism}, {j}')\n",
        "      function_name = model['variables'][variable]['functions'][mechanism]\n",
        "      print(f'\\tFunction name: {function_name}')\n",
        "\n",
        "      #### Calculate weight\n",
        "      series_name = f'{function_name}_t'\n",
        "      series_name_weight = f'{series_name}_weight'\n",
        "      exec(f'{series_name_weight} = abs(t_scale*{series_name}/per_cap_ref)')\n",
        "      print(f'\\t{series_name_weight} stored.')\n",
        "\n",
        "      #### Check maximum number of mechanisms\n",
        "      if j > jmax:\n",
        "        jmax = j\n",
        "\n",
        "    i = i + 1\n",
        "\n",
        "# Store maximum number of mechanisms in a variable (needed for plots)\n",
        "max_number_of_mechanisms = jmax + 1\n",
        "print(f'The maximum number of mechanisms encountered is {max_number_of_mechanisms}')\n",
        "\n",
        "print('Obtaining time series values for the weights (COMPLETED)')"
      ],
      "metadata": {
        "id": "ed3n6T9OljHg",
        "outputId": "f1b61a92-92cf-4c2a-bb63-0f5f273b2b9f",
        "colab": {
          "base_uri": "https://localhost:8080/"
        }
      },
      "execution_count": 15,
      "outputs": [
        {
          "output_type": "stream",
          "name": "stdout",
          "text": [
            "Obtaining time series values for the weights (STARTED)\n",
            "Simulation values assigned.\n",
            "Time scale assigned.\n",
            "Parameter values assigned.\n",
            "Variable: Bacteria\n",
            "\tMechanism: growth, 0\n",
            "\tFunction name: Bacteria_growth\n",
            "\tBacteria_growth_t_weight stored.\n",
            "\tMechanism: predation, 1\n",
            "\tFunction name: Bacteria_predation\n",
            "\tBacteria_predation_t_weight stored.\n",
            "Variable: Phage\n",
            "\tMechanism: burst, 0\n",
            "\tFunction name: Phage_burst\n",
            "\tPhage_burst_t_weight stored.\n",
            "\tMechanism: decay, 1\n",
            "\tFunction name: Phage_decay\n",
            "\tPhage_decay_t_weight stored.\n",
            "The maximum number of mechanisms encountered is 2\n",
            "Obtaining time series values for the weights (COMPLETED)\n"
          ]
        }
      ]
    },
    {
      "cell_type": "markdown",
      "source": [
        "# Plots"
      ],
      "metadata": {
        "id": "4ssgmtJ59TQh"
      }
    },
    {
      "cell_type": "markdown",
      "source": [
        "## System dimensions"
      ],
      "metadata": {
        "id": "lAylrW3dB6of"
      }
    },
    {
      "cell_type": "code",
      "source": [
        "# Dimensions of the dynamical system\n",
        "system_dim = solution.y.shape[0]\n",
        "print(f'System dimensions = {system_dim}')\n",
        "\n",
        "# Double check initial model\n",
        "n_depend_variables = len(depend_variables_symbol)\n",
        "if n_depend_variables == system_dim:\n",
        "  print('Model dimensions match the system of equations solved')\n",
        "else:\n",
        "  print('WARNING:')\n",
        "  print('Model dimensions do not match the system of equations solved')\n",
        "  print(f'n_depend_variables = {n_depend_variables}')\n",
        "  print(f'system_dim = {system_dim}')"
      ],
      "metadata": {
        "colab": {
          "base_uri": "https://localhost:8080/"
        },
        "id": "n_4FUUd5BdZu",
        "outputId": "68dc3db5-94f1-45c3-f07a-f77910eeb5e1"
      },
      "execution_count": 16,
      "outputs": [
        {
          "output_type": "stream",
          "name": "stdout",
          "text": [
            "System dimensions = 2\n",
            "Model dimensions match the system of equations solved\n"
          ]
        }
      ]
    },
    {
      "cell_type": "markdown",
      "source": [
        "## Individual dynamics"
      ],
      "metadata": {
        "id": "P-gvYKmcgXLU"
      }
    },
    {
      "cell_type": "code",
      "source": [
        "# Determine grid (It assumes one column)\n",
        "cols = system_dim\n",
        "rows = 1\n",
        "\n",
        "# Fig size\n",
        "width = 5*cols\n",
        "height = 5*rows\n",
        "\n",
        "# Generate figure object\n",
        "fig, ax = plt.subplots(rows, cols, figsize=(width, height))\n",
        "title = 'Individual dynamics'\n",
        "\n",
        "# Plot individual dynamics\n",
        "\n",
        "## Common independent variable\n",
        "x = solution.t\n",
        "x_label = indep_variable_symbol\n",
        "x_variable = 'linear'\n",
        "\n",
        "## Plot each dependent variable\n",
        "y_variables_scales = [] ## vector storing preferred scales\n",
        "for i in range(system_dim):\n",
        "\n",
        "  ## Grid index\n",
        "  (row,col) = divmod(i,cols)\n",
        "\n",
        "  ### Variable\n",
        "  y = solution.y[i]\n",
        "  y_label = depend_variables_symbol[i]\n",
        "\n",
        "  ### Choose scale\n",
        "  #### If the variable contains a zero, use linear\n",
        "  if 0 in y:\n",
        "    y_scale = 'linear'\n",
        "    print('y contains a zero')\n",
        "\n",
        "  #### If variable contains positive and negative values, use linear\n",
        "  elif len(y[y>0])*len(y[y<0])<0:\n",
        "    y_scale = 'linear'\n",
        "    print('y contains positive and negative values')\n",
        "\n",
        "  #### If the values are within two orders of magnitude, use linear\n",
        "  elif (y.max()/y.min()) <= 100:\n",
        "    y_scale = 'linear'\n",
        "\n",
        "  #### Otherwise, use logscale\n",
        "  else:\n",
        "    y_scale = 'log'\n",
        "    print('y contains relatively large max-to-min values')\n",
        "\n",
        "  print(y_scale)\n",
        "  if cols == 1:\n",
        "    ax.set_yscale(y_scale)\n",
        "  else:\n",
        "    ax[col].set_yscale(y_scale)\n",
        "  y_variables_scales.append(y_scale)\n",
        "\n",
        "  ### Graph\n",
        "  if cols == 1:\n",
        "    ax.plot(x, y, 'b-')\n",
        "  else:\n",
        "    ax[col].plot(x, y, 'b-')\n",
        "\n",
        "  ### Labels\n",
        "  if cols == 1:\n",
        "    ax.set_xlabel(x_label)\n",
        "    ax.set_ylabel(y_label)\n",
        "  else:\n",
        "    ax[col].set_xlabel(x_label)\n",
        "    ax[col].set_ylabel(y_label)\n",
        "\n",
        "plt.show()"
      ],
      "metadata": {
        "colab": {
          "base_uri": "https://localhost:8080/",
          "height": 517
        },
        "id": "SNZyr1CMghrA",
        "outputId": "047f8ad1-8165-4802-c58b-0de65b0ee538"
      },
      "execution_count": 17,
      "outputs": [
        {
          "output_type": "stream",
          "name": "stdout",
          "text": [
            "y contains relatively large max-to-min values\n",
            "log\n",
            "linear\n"
          ]
        },
        {
          "output_type": "display_data",
          "data": {
            "text/plain": [
              "<Figure size 1000x500 with 2 Axes>"
            ],
            "image/png": "[encoded data removed]"
          },
          "metadata": {}
        }
      ]
    },
    {
      "cell_type": "markdown",
      "source": [
        "# PerCapFiniT"
      ],
      "metadata": {
        "id": "xwKUetKUEkJo"
      }
    },
    {
      "cell_type": "code",
      "source": [
        "# Generate individual dynamics displaying weights\n",
        "\n",
        "## Set grid\n",
        "#cols = 2 # adapt to the number of dependent variables\n",
        "cols = system_dim\n",
        "rows = max_number_of_mechanisms + 1\n",
        "\n",
        "## Fig size\n",
        "width = 5*cols\n",
        "height = 5*rows\n",
        "\n",
        "## Generate figure object\n",
        "fig, ax = plt.subplots(rows, cols, figsize=(width, height))\n",
        "title = 'Dynamics and weights'\n",
        "\n",
        "## Plot dynamics\n",
        "\n",
        "### Common independent variable\n",
        "x = solution.t\n",
        "x_label = indep_variable_symbol\n",
        "x_variable = 'linear'\n",
        "\n",
        "### Plot each variable and its weights\n",
        "j = 0 #column\n",
        "for variable in model['variables']:\n",
        "\n",
        "  # Focus only on dependent variables\n",
        "  independent = model['variables'][variable]['independent']\n",
        "  if not independent:\n",
        "    print(variable)\n",
        "\n",
        "    # Plot variable dynamics\n",
        "    i = 0 # row\n",
        "    y = solution.y[j]\n",
        "    y_label = depend_variables_symbol[j]\n",
        "    y_scale = y_variables_scales[j]\n",
        "\n",
        "    if cols == 1:\n",
        "      ax[i].set_yscale(y_scale)\n",
        "      ax[i].plot(x, y, 'b-')\n",
        "\n",
        "      ax[i].set_xlabel(x_label)\n",
        "      ax[i].set_ylabel(y_label)\n",
        "    else:\n",
        "      ax[i,j].set_yscale(y_scale)\n",
        "      ax[i,j].plot(x, y, 'b-')\n",
        "\n",
        "      ax[i,j].set_xlabel(x_label)\n",
        "      ax[i,j].set_ylabel(y_label)\n",
        "\n",
        "    # Plot weights\n",
        "    for function in model['variables'][variable]['functions']:\n",
        "      i += 1\n",
        "      #ax[i,j].set_yscale(y_scale)\n",
        "\n",
        "      print(function)\n",
        "\n",
        "      exec(f'weight = {variable}_{function}_t_weight')\n",
        "\n",
        "      #plot\n",
        "      y = weight\n",
        "\n",
        "      if cols == 1:\n",
        "        ax[i].plot(x, y, 'b-')\n",
        "      else:\n",
        "        ax[i,j].plot(x, y, 'b-')\n",
        "\n",
        "      ### Labels\n",
        "      y_label = f'{function} weight'\n",
        "\n",
        "      if cols == 1:\n",
        "        ax[i].set_xlabel(x_label)\n",
        "        ax[i].set_ylabel(y_label)\n",
        "      else:\n",
        "        ax[i,j].set_xlabel(x_label)\n",
        "        ax[i,j].set_ylabel(y_label)\n",
        "\n",
        "    #Next column\n",
        "    j += 1\n",
        "plt.show()\n",
        "\n",
        "# Save and download figure\n",
        "name = 'dynamics_output'\n",
        "format = 'png'\n",
        "figname = f'{name}.{format}'\n",
        "fig.savefig(figname,format=format,dpi=300)\n",
        "files.download(figname)"
      ],
      "metadata": {
        "id": "w5qnXBU2lBtL",
        "outputId": "e8cb129e-f9c3-4818-f464-a1d883bd4c4e",
        "colab": {
          "base_uri": "https://localhost:8080/",
          "height": 1000
        }
      },
      "execution_count": 18,
      "outputs": [
        {
          "output_type": "stream",
          "name": "stdout",
          "text": [
            "Bacteria\n",
            "growth\n",
            "predation\n",
            "Phage\n",
            "burst\n",
            "decay\n"
          ]
        },
        {
          "output_type": "display_data",
          "data": {
            "text/plain": [
              "<Figure size 1000x1500 with 6 Axes>"
            ],
            "image/png": "[encoded data removed]"
          },
          "metadata": {}
        },
        {
          "output_type": "display_data",
          "data": {
            "text/plain": [
              "<IPython.core.display.Javascript object>"
            ],
            "application/javascript": [
              "\n",
              "    async function download(id, filename, size) {\n",
              "      if (!google.colab.kernel.accessAllowed) {\n",
              "        return;\n",
              "      }\n",
              "      const div = document.createElement('div');\n",
              "      const label = document.createElement('label');\n",
              "      label.textContent = `Downloading \"${filename}\": `;\n",
              "      div.appendChild(label);\n",
              "      const progress = document.createElement('progress');\n",
              "      progress.max = size;\n",
              "      div.appendChild(progress);\n",
              "      document.body.appendChild(div);\n",
              "\n",
              "      const buffers = [];\n",
              "      let downloaded = 0;\n",
              "\n",
              "      const channel = await google.colab.kernel.comms.open(id);\n",
              "      // Send a message to notify the kernel that we're ready.\n",
              "      channel.send({})\n",
              "\n",
              "      for await (const message of channel.messages) {\n",
              "        // Send a message to notify the kernel that we're ready.\n",
              "        channel.send({})\n",
              "        if (message.buffers) {\n",
              "          for (const buffer of message.buffers) {\n",
              "            buffers.push(buffer);\n",
              "            downloaded += buffer.byteLength;\n",
              "            progress.value = downloaded;\n",
              "          }\n",
              "        }\n",
              "      }\n",
              "      const blob = new Blob(buffers, {type: 'application/binary'});\n",
              "      const a = document.createElement('a');\n",
              "      a.href = window.URL.createObjectURL(blob);\n",
              "      a.download = filename;\n",
              "      div.appendChild(a);\n",
              "      a.click();\n",
              "      div.remove();\n",
              "    }\n",
              "  "
            ]
          },
          "metadata": {}
        },
        {
          "output_type": "display_data",
          "data": {
            "text/plain": [
              "<IPython.core.display.Javascript object>"
            ],
            "application/javascript": [
              "download(\"download_10aa70bc-cd65-4212-af51-621f8b50ee52\", \"dynamics_output.png\", 294230)"
            ]
          },
          "metadata": {}
        }
      ]
    },
    {
      "cell_type": "markdown",
      "source": [
        "## Phase diagram"
      ],
      "metadata": {
        "id": "VqNLAHysB-P9"
      }
    },
    {
      "cell_type": "code",
      "source": [
        "# Plot only if the dimensions of the system are two or larger\n",
        "if system_dim <= 1:\n",
        "  print(f'The dimensionality of the system is {system_dim}')\n",
        "  print(f'Generating the phase diagram requires a dimensionality ≥ 2')\n",
        "else:\n",
        "  # Number of phase diagrams (non repeated combination of dependent variables)\n",
        "  n_phase_diagrams = int(system_dim*(system_dim-1)/2)\n",
        "\n",
        "  if n_phase_diagrams == 1:\n",
        "    cols = 1\n",
        "    rows = 1\n",
        "  else:\n",
        "    # Determine grid (rows * cols)\n",
        "    cols = 3\n",
        "    rows = ceil(float(n_phase_diagrams)/float(cols))\n",
        "\n",
        "  # Plot phase diagram dynamics\n",
        "  ## Figure size\n",
        "  width = 5*cols\n",
        "  height = 5*rows\n",
        "\n",
        "  ## Figure object\n",
        "  fig, ax = plt.subplots(rows, cols, figsize=(width, height))\n",
        "  title = 'Phase diagram'\n",
        "\n",
        "  ## Plot combination of dependent variables\n",
        "  count = 0 # phase diagram counter\n",
        "  for i in range(system_dim):\n",
        "    for j in range(i+1,system_dim):\n",
        "      ## Grid index\n",
        "      (col,row) = divmod(count,cols)\n",
        "\n",
        "      ### Variables\n",
        "      x = solution.y[i]\n",
        "      y = solution.y[j]\n",
        "\n",
        "      x_label = depend_variables_symbol[i]\n",
        "      y_label = depend_variables_symbol[j]\n",
        "\n",
        "      ### Set scales\n",
        "      x_scale = y_variables_scales[i]\n",
        "      y_scale = y_variables_scales[j]\n",
        "\n",
        "      if n_phase_diagrams == 1:\n",
        "        #ax[row,col].set_xscale(x_scale)\n",
        "        #ax[row,col].set_yscale(y_scale)\n",
        "        #### Scales\n",
        "        ax.set_xscale(x_scale)\n",
        "        ax.set_yscale(y_scale)\n",
        "\n",
        "        #### Graphs\n",
        "        ax.plot(x, y, 'b-')\n",
        "\n",
        "        #### Labels\n",
        "        ax.set_xlabel(x_label)\n",
        "        ax.set_ylabel(y_label)\n",
        "\n",
        "      else:\n",
        "        #### Scales\n",
        "        ax[row,col].set_xscale(x_scale)\n",
        "        ax[row,col].set_yscale(y_scale)\n",
        "\n",
        "        #### Graphs\n",
        "        ax[row,col].plot(x, y, 'b-')\n",
        "\n",
        "        #### Labels\n",
        "        ax[row,col].set_xlabel(x_label)\n",
        "        ax[row,col].set_ylabel(y_label)\n",
        "\n",
        "plt.show()"
      ],
      "metadata": {
        "colab": {
          "base_uri": "https://localhost:8080/",
          "height": 469
        },
        "id": "5GrAkapYCJni",
        "outputId": "ef18ac62-eac1-4bbc-c4fa-245b6d6db712"
      },
      "execution_count": 19,
      "outputs": [
        {
          "output_type": "display_data",
          "data": {
            "text/plain": [
              "<Figure size 500x500 with 1 Axes>"
            ],
            "image/png": "[encoded data removed]"
          },
          "metadata": {}
        }
      ]
    }
  ]
}